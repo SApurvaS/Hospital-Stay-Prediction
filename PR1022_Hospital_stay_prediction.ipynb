{
 "cells": [
  {
   "cell_type": "code",
   "execution_count": 30,
   "id": "7869f51a",
   "metadata": {
    "scrolled": true
   },
   "outputs": [],
   "source": [
    "import pandas as pd\n",
    "import numpy as np\n",
    "import matplotlib.pyplot as plt\n",
    "import seaborn as sns"
   ]
  },
  {
   "cell_type": "code",
   "execution_count": 31,
   "id": "4e6e3ac2",
   "metadata": {
    "scrolled": true
   },
   "outputs": [],
   "source": [
    "data = pd.read_csv(\"HealthCareAnalytics.csv\")"
   ]
  },
  {
   "cell_type": "code",
   "execution_count": 32,
   "id": "f299819e",
   "metadata": {
    "scrolled": true
   },
   "outputs": [],
   "source": [
    "df = pd.DataFrame(data)"
   ]
  },
  {
   "cell_type": "code",
   "execution_count": 33,
   "id": "a3b57bc3",
   "metadata": {
    "scrolled": true
   },
   "outputs": [
    {
     "data": {
      "text/html": [
       "<div>\n",
       "<style scoped>\n",
       "    .dataframe tbody tr th:only-of-type {\n",
       "        vertical-align: middle;\n",
       "    }\n",
       "\n",
       "    .dataframe tbody tr th {\n",
       "        vertical-align: top;\n",
       "    }\n",
       "\n",
       "    .dataframe thead th {\n",
       "        text-align: right;\n",
       "    }\n",
       "</style>\n",
       "<table border=\"1\" class=\"dataframe\">\n",
       "  <thead>\n",
       "    <tr style=\"text-align: right;\">\n",
       "      <th></th>\n",
       "      <th>case_id</th>\n",
       "      <th>Hospital_code</th>\n",
       "      <th>Hospital_type_code</th>\n",
       "      <th>City_Code_Hospital</th>\n",
       "      <th>Hospital_region_code</th>\n",
       "      <th>Available_Extra_Rooms_in_Hospital</th>\n",
       "      <th>Department</th>\n",
       "      <th>Ward_Type</th>\n",
       "      <th>Ward_Facility_Code</th>\n",
       "      <th>Bed_Grade</th>\n",
       "      <th>patientid</th>\n",
       "      <th>City_Code_Patient</th>\n",
       "      <th>Type_of_Admission</th>\n",
       "      <th>Severity_of_Illness</th>\n",
       "      <th>Visitors_with_Patient</th>\n",
       "      <th>Age</th>\n",
       "      <th>Admission_Deposit</th>\n",
       "      <th>Stay</th>\n",
       "    </tr>\n",
       "  </thead>\n",
       "  <tbody>\n",
       "    <tr>\n",
       "      <th>0</th>\n",
       "      <td>1</td>\n",
       "      <td>8</td>\n",
       "      <td>c</td>\n",
       "      <td>3</td>\n",
       "      <td>Z</td>\n",
       "      <td>3</td>\n",
       "      <td>radiotherapy</td>\n",
       "      <td>R</td>\n",
       "      <td>F</td>\n",
       "      <td>2.0</td>\n",
       "      <td>31397</td>\n",
       "      <td>7.0</td>\n",
       "      <td>Emergency</td>\n",
       "      <td>Extreme</td>\n",
       "      <td>2</td>\n",
       "      <td>51-60</td>\n",
       "      <td>4911</td>\n",
       "      <td>0-10</td>\n",
       "    </tr>\n",
       "    <tr>\n",
       "      <th>1</th>\n",
       "      <td>2</td>\n",
       "      <td>2</td>\n",
       "      <td>c</td>\n",
       "      <td>5</td>\n",
       "      <td>Z</td>\n",
       "      <td>2</td>\n",
       "      <td>radiotherapy</td>\n",
       "      <td>S</td>\n",
       "      <td>F</td>\n",
       "      <td>2.0</td>\n",
       "      <td>31397</td>\n",
       "      <td>7.0</td>\n",
       "      <td>Trauma</td>\n",
       "      <td>Extreme</td>\n",
       "      <td>2</td>\n",
       "      <td>51-60</td>\n",
       "      <td>5954</td>\n",
       "      <td>41-50</td>\n",
       "    </tr>\n",
       "    <tr>\n",
       "      <th>2</th>\n",
       "      <td>3</td>\n",
       "      <td>10</td>\n",
       "      <td>e</td>\n",
       "      <td>1</td>\n",
       "      <td>X</td>\n",
       "      <td>2</td>\n",
       "      <td>anesthesia</td>\n",
       "      <td>S</td>\n",
       "      <td>E</td>\n",
       "      <td>2.0</td>\n",
       "      <td>31397</td>\n",
       "      <td>7.0</td>\n",
       "      <td>Trauma</td>\n",
       "      <td>Extreme</td>\n",
       "      <td>2</td>\n",
       "      <td>51-60</td>\n",
       "      <td>4745</td>\n",
       "      <td>31-40</td>\n",
       "    </tr>\n",
       "    <tr>\n",
       "      <th>3</th>\n",
       "      <td>4</td>\n",
       "      <td>26</td>\n",
       "      <td>b</td>\n",
       "      <td>2</td>\n",
       "      <td>Y</td>\n",
       "      <td>2</td>\n",
       "      <td>radiotherapy</td>\n",
       "      <td>R</td>\n",
       "      <td>D</td>\n",
       "      <td>2.0</td>\n",
       "      <td>31397</td>\n",
       "      <td>7.0</td>\n",
       "      <td>Trauma</td>\n",
       "      <td>Extreme</td>\n",
       "      <td>2</td>\n",
       "      <td>51-60</td>\n",
       "      <td>7272</td>\n",
       "      <td>41-50</td>\n",
       "    </tr>\n",
       "    <tr>\n",
       "      <th>4</th>\n",
       "      <td>5</td>\n",
       "      <td>26</td>\n",
       "      <td>b</td>\n",
       "      <td>2</td>\n",
       "      <td>Y</td>\n",
       "      <td>2</td>\n",
       "      <td>radiotherapy</td>\n",
       "      <td>S</td>\n",
       "      <td>D</td>\n",
       "      <td>2.0</td>\n",
       "      <td>31397</td>\n",
       "      <td>7.0</td>\n",
       "      <td>Trauma</td>\n",
       "      <td>Extreme</td>\n",
       "      <td>2</td>\n",
       "      <td>51-60</td>\n",
       "      <td>5558</td>\n",
       "      <td>41-50</td>\n",
       "    </tr>\n",
       "  </tbody>\n",
       "</table>\n",
       "</div>"
      ],
      "text/plain": [
       "   case_id  Hospital_code Hospital_type_code  City_Code_Hospital  \\\n",
       "0        1              8                  c                   3   \n",
       "1        2              2                  c                   5   \n",
       "2        3             10                  e                   1   \n",
       "3        4             26                  b                   2   \n",
       "4        5             26                  b                   2   \n",
       "\n",
       "  Hospital_region_code  Available_Extra_Rooms_in_Hospital    Department  \\\n",
       "0                    Z                                  3  radiotherapy   \n",
       "1                    Z                                  2  radiotherapy   \n",
       "2                    X                                  2    anesthesia   \n",
       "3                    Y                                  2  radiotherapy   \n",
       "4                    Y                                  2  radiotherapy   \n",
       "\n",
       "  Ward_Type Ward_Facility_Code  Bed_Grade  patientid  City_Code_Patient  \\\n",
       "0         R                  F        2.0      31397                7.0   \n",
       "1         S                  F        2.0      31397                7.0   \n",
       "2         S                  E        2.0      31397                7.0   \n",
       "3         R                  D        2.0      31397                7.0   \n",
       "4         S                  D        2.0      31397                7.0   \n",
       "\n",
       "  Type_of_Admission Severity_of_Illness  Visitors_with_Patient    Age  \\\n",
       "0         Emergency             Extreme                      2  51-60   \n",
       "1            Trauma             Extreme                      2  51-60   \n",
       "2            Trauma             Extreme                      2  51-60   \n",
       "3            Trauma             Extreme                      2  51-60   \n",
       "4            Trauma             Extreme                      2  51-60   \n",
       "\n",
       "   Admission_Deposit   Stay  \n",
       "0               4911   0-10  \n",
       "1               5954  41-50  \n",
       "2               4745  31-40  \n",
       "3               7272  41-50  \n",
       "4               5558  41-50  "
      ]
     },
     "execution_count": 33,
     "metadata": {},
     "output_type": "execute_result"
    }
   ],
   "source": [
    "df.head()"
   ]
  },
  {
   "cell_type": "code",
   "execution_count": 34,
   "id": "46a4e28f",
   "metadata": {
    "scrolled": true
   },
   "outputs": [
    {
     "data": {
      "text/html": [
       "<div>\n",
       "<style scoped>\n",
       "    .dataframe tbody tr th:only-of-type {\n",
       "        vertical-align: middle;\n",
       "    }\n",
       "\n",
       "    .dataframe tbody tr th {\n",
       "        vertical-align: top;\n",
       "    }\n",
       "\n",
       "    .dataframe thead th {\n",
       "        text-align: right;\n",
       "    }\n",
       "</style>\n",
       "<table border=\"1\" class=\"dataframe\">\n",
       "  <thead>\n",
       "    <tr style=\"text-align: right;\">\n",
       "      <th></th>\n",
       "      <th>case_id</th>\n",
       "      <th>Hospital_code</th>\n",
       "      <th>Hospital_type_code</th>\n",
       "      <th>City_Code_Hospital</th>\n",
       "      <th>Hospital_region_code</th>\n",
       "      <th>Available_Extra_Rooms_in_Hospital</th>\n",
       "      <th>Department</th>\n",
       "      <th>Ward_Type</th>\n",
       "      <th>Ward_Facility_Code</th>\n",
       "      <th>Bed_Grade</th>\n",
       "      <th>patientid</th>\n",
       "      <th>City_Code_Patient</th>\n",
       "      <th>Type_of_Admission</th>\n",
       "      <th>Severity_of_Illness</th>\n",
       "      <th>Visitors_with_Patient</th>\n",
       "      <th>Age</th>\n",
       "      <th>Admission_Deposit</th>\n",
       "      <th>Stay</th>\n",
       "    </tr>\n",
       "  </thead>\n",
       "  <tbody>\n",
       "    <tr>\n",
       "      <th>318433</th>\n",
       "      <td>318434</td>\n",
       "      <td>6</td>\n",
       "      <td>a</td>\n",
       "      <td>6</td>\n",
       "      <td>X</td>\n",
       "      <td>3</td>\n",
       "      <td>radiotherapy</td>\n",
       "      <td>Q</td>\n",
       "      <td>F</td>\n",
       "      <td>4.0</td>\n",
       "      <td>86499</td>\n",
       "      <td>23.0</td>\n",
       "      <td>Emergency</td>\n",
       "      <td>Moderate</td>\n",
       "      <td>3</td>\n",
       "      <td>41-50</td>\n",
       "      <td>4144</td>\n",
       "      <td>Nov-20</td>\n",
       "    </tr>\n",
       "    <tr>\n",
       "      <th>318434</th>\n",
       "      <td>318435</td>\n",
       "      <td>24</td>\n",
       "      <td>a</td>\n",
       "      <td>1</td>\n",
       "      <td>X</td>\n",
       "      <td>2</td>\n",
       "      <td>anesthesia</td>\n",
       "      <td>Q</td>\n",
       "      <td>E</td>\n",
       "      <td>4.0</td>\n",
       "      <td>325</td>\n",
       "      <td>8.0</td>\n",
       "      <td>Urgent</td>\n",
       "      <td>Moderate</td>\n",
       "      <td>4</td>\n",
       "      <td>81-90</td>\n",
       "      <td>6699</td>\n",
       "      <td>31-40</td>\n",
       "    </tr>\n",
       "    <tr>\n",
       "      <th>318435</th>\n",
       "      <td>318436</td>\n",
       "      <td>7</td>\n",
       "      <td>a</td>\n",
       "      <td>4</td>\n",
       "      <td>X</td>\n",
       "      <td>3</td>\n",
       "      <td>gynecology</td>\n",
       "      <td>R</td>\n",
       "      <td>F</td>\n",
       "      <td>4.0</td>\n",
       "      <td>125235</td>\n",
       "      <td>10.0</td>\n",
       "      <td>Emergency</td>\n",
       "      <td>Minor</td>\n",
       "      <td>3</td>\n",
       "      <td>71-80</td>\n",
       "      <td>4235</td>\n",
       "      <td>Nov-20</td>\n",
       "    </tr>\n",
       "    <tr>\n",
       "      <th>318436</th>\n",
       "      <td>318437</td>\n",
       "      <td>11</td>\n",
       "      <td>b</td>\n",
       "      <td>2</td>\n",
       "      <td>Y</td>\n",
       "      <td>3</td>\n",
       "      <td>anesthesia</td>\n",
       "      <td>Q</td>\n",
       "      <td>D</td>\n",
       "      <td>3.0</td>\n",
       "      <td>91081</td>\n",
       "      <td>8.0</td>\n",
       "      <td>Trauma</td>\n",
       "      <td>Minor</td>\n",
       "      <td>5</td>\n",
       "      <td>Nov-20</td>\n",
       "      <td>3761</td>\n",
       "      <td>Nov-20</td>\n",
       "    </tr>\n",
       "    <tr>\n",
       "      <th>318437</th>\n",
       "      <td>318438</td>\n",
       "      <td>19</td>\n",
       "      <td>a</td>\n",
       "      <td>7</td>\n",
       "      <td>Y</td>\n",
       "      <td>5</td>\n",
       "      <td>gynecology</td>\n",
       "      <td>Q</td>\n",
       "      <td>C</td>\n",
       "      <td>2.0</td>\n",
       "      <td>21641</td>\n",
       "      <td>8.0</td>\n",
       "      <td>Emergency</td>\n",
       "      <td>Minor</td>\n",
       "      <td>2</td>\n",
       "      <td>Nov-20</td>\n",
       "      <td>4752</td>\n",
       "      <td>0-10</td>\n",
       "    </tr>\n",
       "  </tbody>\n",
       "</table>\n",
       "</div>"
      ],
      "text/plain": [
       "        case_id  Hospital_code Hospital_type_code  City_Code_Hospital  \\\n",
       "318433   318434              6                  a                   6   \n",
       "318434   318435             24                  a                   1   \n",
       "318435   318436              7                  a                   4   \n",
       "318436   318437             11                  b                   2   \n",
       "318437   318438             19                  a                   7   \n",
       "\n",
       "       Hospital_region_code  Available_Extra_Rooms_in_Hospital    Department  \\\n",
       "318433                    X                                  3  radiotherapy   \n",
       "318434                    X                                  2    anesthesia   \n",
       "318435                    X                                  3    gynecology   \n",
       "318436                    Y                                  3    anesthesia   \n",
       "318437                    Y                                  5    gynecology   \n",
       "\n",
       "       Ward_Type Ward_Facility_Code  Bed_Grade  patientid  City_Code_Patient  \\\n",
       "318433         Q                  F        4.0      86499               23.0   \n",
       "318434         Q                  E        4.0        325                8.0   \n",
       "318435         R                  F        4.0     125235               10.0   \n",
       "318436         Q                  D        3.0      91081                8.0   \n",
       "318437         Q                  C        2.0      21641                8.0   \n",
       "\n",
       "       Type_of_Admission Severity_of_Illness  Visitors_with_Patient     Age  \\\n",
       "318433         Emergency            Moderate                      3   41-50   \n",
       "318434            Urgent            Moderate                      4   81-90   \n",
       "318435         Emergency               Minor                      3   71-80   \n",
       "318436            Trauma               Minor                      5  Nov-20   \n",
       "318437         Emergency               Minor                      2  Nov-20   \n",
       "\n",
       "        Admission_Deposit    Stay  \n",
       "318433               4144  Nov-20  \n",
       "318434               6699   31-40  \n",
       "318435               4235  Nov-20  \n",
       "318436               3761  Nov-20  \n",
       "318437               4752    0-10  "
      ]
     },
     "execution_count": 34,
     "metadata": {},
     "output_type": "execute_result"
    }
   ],
   "source": [
    "df.tail()"
   ]
  },
  {
   "cell_type": "code",
   "execution_count": 35,
   "id": "dde63b10",
   "metadata": {
    "scrolled": true
   },
   "outputs": [
    {
     "data": {
      "text/plain": [
       "(318438, 18)"
      ]
     },
     "execution_count": 35,
     "metadata": {},
     "output_type": "execute_result"
    }
   ],
   "source": [
    "df.shape"
   ]
  },
  {
   "cell_type": "code",
   "execution_count": 36,
   "id": "95b55f42",
   "metadata": {
    "scrolled": false
   },
   "outputs": [
    {
     "name": "stdout",
     "output_type": "stream",
     "text": [
      "<class 'pandas.core.frame.DataFrame'>\n",
      "RangeIndex: 318438 entries, 0 to 318437\n",
      "Data columns (total 18 columns):\n",
      " #   Column                             Non-Null Count   Dtype  \n",
      "---  ------                             --------------   -----  \n",
      " 0   case_id                            318438 non-null  int64  \n",
      " 1   Hospital_code                      318438 non-null  int64  \n",
      " 2   Hospital_type_code                 318438 non-null  object \n",
      " 3   City_Code_Hospital                 318438 non-null  int64  \n",
      " 4   Hospital_region_code               318438 non-null  object \n",
      " 5   Available_Extra_Rooms_in_Hospital  318438 non-null  int64  \n",
      " 6   Department                         318438 non-null  object \n",
      " 7   Ward_Type                          318438 non-null  object \n",
      " 8   Ward_Facility_Code                 318438 non-null  object \n",
      " 9   Bed_Grade                          318325 non-null  float64\n",
      " 10  patientid                          318438 non-null  int64  \n",
      " 11  City_Code_Patient                  313906 non-null  float64\n",
      " 12  Type_of_Admission                  318438 non-null  object \n",
      " 13  Severity_of_Illness                318438 non-null  object \n",
      " 14  Visitors_with_Patient              318438 non-null  int64  \n",
      " 15  Age                                318438 non-null  object \n",
      " 16  Admission_Deposit                  318438 non-null  int64  \n",
      " 17  Stay                               318438 non-null  object \n",
      "dtypes: float64(2), int64(7), object(9)\n",
      "memory usage: 43.7+ MB\n"
     ]
    }
   ],
   "source": [
    "df.info()"
   ]
  },
  {
   "cell_type": "code",
   "execution_count": 37,
   "id": "0994d38c",
   "metadata": {
    "scrolled": true
   },
   "outputs": [
    {
     "data": {
      "text/html": [
       "<div>\n",
       "<style scoped>\n",
       "    .dataframe tbody tr th:only-of-type {\n",
       "        vertical-align: middle;\n",
       "    }\n",
       "\n",
       "    .dataframe tbody tr th {\n",
       "        vertical-align: top;\n",
       "    }\n",
       "\n",
       "    .dataframe thead th {\n",
       "        text-align: right;\n",
       "    }\n",
       "</style>\n",
       "<table border=\"1\" class=\"dataframe\">\n",
       "  <thead>\n",
       "    <tr style=\"text-align: right;\">\n",
       "      <th></th>\n",
       "      <th>case_id</th>\n",
       "      <th>Hospital_code</th>\n",
       "      <th>City_Code_Hospital</th>\n",
       "      <th>Available_Extra_Rooms_in_Hospital</th>\n",
       "      <th>Bed_Grade</th>\n",
       "      <th>patientid</th>\n",
       "      <th>City_Code_Patient</th>\n",
       "      <th>Visitors_with_Patient</th>\n",
       "      <th>Admission_Deposit</th>\n",
       "    </tr>\n",
       "  </thead>\n",
       "  <tbody>\n",
       "    <tr>\n",
       "      <th>count</th>\n",
       "      <td>318438.000000</td>\n",
       "      <td>318438.000000</td>\n",
       "      <td>318438.000000</td>\n",
       "      <td>318438.000000</td>\n",
       "      <td>318325.000000</td>\n",
       "      <td>318438.000000</td>\n",
       "      <td>313906.000000</td>\n",
       "      <td>318438.000000</td>\n",
       "      <td>318438.000000</td>\n",
       "    </tr>\n",
       "    <tr>\n",
       "      <th>mean</th>\n",
       "      <td>159219.500000</td>\n",
       "      <td>18.318841</td>\n",
       "      <td>4.771717</td>\n",
       "      <td>3.197627</td>\n",
       "      <td>2.625807</td>\n",
       "      <td>65747.579472</td>\n",
       "      <td>7.251859</td>\n",
       "      <td>3.284099</td>\n",
       "      <td>4880.749392</td>\n",
       "    </tr>\n",
       "    <tr>\n",
       "      <th>std</th>\n",
       "      <td>91925.276848</td>\n",
       "      <td>8.633755</td>\n",
       "      <td>3.102535</td>\n",
       "      <td>1.168171</td>\n",
       "      <td>0.873146</td>\n",
       "      <td>37979.936440</td>\n",
       "      <td>4.745266</td>\n",
       "      <td>1.764061</td>\n",
       "      <td>1086.776254</td>\n",
       "    </tr>\n",
       "    <tr>\n",
       "      <th>min</th>\n",
       "      <td>1.000000</td>\n",
       "      <td>1.000000</td>\n",
       "      <td>1.000000</td>\n",
       "      <td>0.000000</td>\n",
       "      <td>1.000000</td>\n",
       "      <td>1.000000</td>\n",
       "      <td>1.000000</td>\n",
       "      <td>0.000000</td>\n",
       "      <td>1800.000000</td>\n",
       "    </tr>\n",
       "    <tr>\n",
       "      <th>25%</th>\n",
       "      <td>79610.250000</td>\n",
       "      <td>11.000000</td>\n",
       "      <td>2.000000</td>\n",
       "      <td>2.000000</td>\n",
       "      <td>2.000000</td>\n",
       "      <td>32847.000000</td>\n",
       "      <td>4.000000</td>\n",
       "      <td>2.000000</td>\n",
       "      <td>4186.000000</td>\n",
       "    </tr>\n",
       "    <tr>\n",
       "      <th>50%</th>\n",
       "      <td>159219.500000</td>\n",
       "      <td>19.000000</td>\n",
       "      <td>5.000000</td>\n",
       "      <td>3.000000</td>\n",
       "      <td>3.000000</td>\n",
       "      <td>65724.500000</td>\n",
       "      <td>8.000000</td>\n",
       "      <td>3.000000</td>\n",
       "      <td>4741.000000</td>\n",
       "    </tr>\n",
       "    <tr>\n",
       "      <th>75%</th>\n",
       "      <td>238828.750000</td>\n",
       "      <td>26.000000</td>\n",
       "      <td>7.000000</td>\n",
       "      <td>4.000000</td>\n",
       "      <td>3.000000</td>\n",
       "      <td>98470.000000</td>\n",
       "      <td>8.000000</td>\n",
       "      <td>4.000000</td>\n",
       "      <td>5409.000000</td>\n",
       "    </tr>\n",
       "    <tr>\n",
       "      <th>max</th>\n",
       "      <td>318438.000000</td>\n",
       "      <td>32.000000</td>\n",
       "      <td>13.000000</td>\n",
       "      <td>24.000000</td>\n",
       "      <td>4.000000</td>\n",
       "      <td>131624.000000</td>\n",
       "      <td>38.000000</td>\n",
       "      <td>32.000000</td>\n",
       "      <td>11008.000000</td>\n",
       "    </tr>\n",
       "  </tbody>\n",
       "</table>\n",
       "</div>"
      ],
      "text/plain": [
       "             case_id  Hospital_code  City_Code_Hospital  \\\n",
       "count  318438.000000  318438.000000       318438.000000   \n",
       "mean   159219.500000      18.318841            4.771717   \n",
       "std     91925.276848       8.633755            3.102535   \n",
       "min         1.000000       1.000000            1.000000   \n",
       "25%     79610.250000      11.000000            2.000000   \n",
       "50%    159219.500000      19.000000            5.000000   \n",
       "75%    238828.750000      26.000000            7.000000   \n",
       "max    318438.000000      32.000000           13.000000   \n",
       "\n",
       "       Available_Extra_Rooms_in_Hospital      Bed_Grade      patientid  \\\n",
       "count                      318438.000000  318325.000000  318438.000000   \n",
       "mean                            3.197627       2.625807   65747.579472   \n",
       "std                             1.168171       0.873146   37979.936440   \n",
       "min                             0.000000       1.000000       1.000000   \n",
       "25%                             2.000000       2.000000   32847.000000   \n",
       "50%                             3.000000       3.000000   65724.500000   \n",
       "75%                             4.000000       3.000000   98470.000000   \n",
       "max                            24.000000       4.000000  131624.000000   \n",
       "\n",
       "       City_Code_Patient  Visitors_with_Patient  Admission_Deposit  \n",
       "count      313906.000000          318438.000000      318438.000000  \n",
       "mean            7.251859               3.284099        4880.749392  \n",
       "std             4.745266               1.764061        1086.776254  \n",
       "min             1.000000               0.000000        1800.000000  \n",
       "25%             4.000000               2.000000        4186.000000  \n",
       "50%             8.000000               3.000000        4741.000000  \n",
       "75%             8.000000               4.000000        5409.000000  \n",
       "max            38.000000              32.000000       11008.000000  "
      ]
     },
     "execution_count": 37,
     "metadata": {},
     "output_type": "execute_result"
    }
   ],
   "source": [
    "df.describe()"
   ]
  },
  {
   "cell_type": "markdown",
   "id": "2798b658",
   "metadata": {},
   "source": [
    "**case_id** & **patientid** columns don't add any usefulness to building a model, so it's better to drop these columns."
   ]
  },
  {
   "cell_type": "markdown",
   "id": "06ab274e",
   "metadata": {},
   "source": [
    "## EDA"
   ]
  },
  {
   "cell_type": "code",
   "execution_count": 38,
   "id": "6b4e6a47",
   "metadata": {
    "scrolled": true
   },
   "outputs": [
    {
     "data": {
      "text/plain": [
       "Index(['case_id', 'Hospital_code', 'Hospital_type_code', 'City_Code_Hospital',\n",
       "       'Hospital_region_code', 'Available_Extra_Rooms_in_Hospital',\n",
       "       'Department', 'Ward_Type', 'Ward_Facility_Code', 'Bed_Grade',\n",
       "       'patientid', 'City_Code_Patient', 'Type_of_Admission',\n",
       "       'Severity_of_Illness', 'Visitors_with_Patient', 'Age',\n",
       "       'Admission_Deposit', 'Stay'],\n",
       "      dtype='object')"
      ]
     },
     "execution_count": 38,
     "metadata": {},
     "output_type": "execute_result"
    }
   ],
   "source": [
    "df.columns"
   ]
  },
  {
   "cell_type": "code",
   "execution_count": 39,
   "id": "21f21353",
   "metadata": {},
   "outputs": [],
   "source": [
    "df_new = df.copy()"
   ]
  },
  {
   "cell_type": "code",
   "execution_count": 40,
   "id": "e67c8749",
   "metadata": {
    "scrolled": true
   },
   "outputs": [],
   "source": [
    "# dropping case_id & patientid columns\n",
    "\n",
    "df_new.drop(['case_id','patientid'], axis=1, inplace=True)"
   ]
  },
  {
   "cell_type": "code",
   "execution_count": 41,
   "id": "ae467795",
   "metadata": {
    "scrolled": true
   },
   "outputs": [
    {
     "data": {
      "text/html": [
       "<div>\n",
       "<style scoped>\n",
       "    .dataframe tbody tr th:only-of-type {\n",
       "        vertical-align: middle;\n",
       "    }\n",
       "\n",
       "    .dataframe tbody tr th {\n",
       "        vertical-align: top;\n",
       "    }\n",
       "\n",
       "    .dataframe thead th {\n",
       "        text-align: right;\n",
       "    }\n",
       "</style>\n",
       "<table border=\"1\" class=\"dataframe\">\n",
       "  <thead>\n",
       "    <tr style=\"text-align: right;\">\n",
       "      <th></th>\n",
       "      <th>Hospital_code</th>\n",
       "      <th>Hospital_type_code</th>\n",
       "      <th>City_Code_Hospital</th>\n",
       "      <th>Hospital_region_code</th>\n",
       "      <th>Available_Extra_Rooms_in_Hospital</th>\n",
       "      <th>Department</th>\n",
       "      <th>Ward_Type</th>\n",
       "      <th>Ward_Facility_Code</th>\n",
       "      <th>Bed_Grade</th>\n",
       "      <th>City_Code_Patient</th>\n",
       "      <th>Type_of_Admission</th>\n",
       "      <th>Severity_of_Illness</th>\n",
       "      <th>Visitors_with_Patient</th>\n",
       "      <th>Age</th>\n",
       "      <th>Admission_Deposit</th>\n",
       "      <th>Stay</th>\n",
       "    </tr>\n",
       "  </thead>\n",
       "  <tbody>\n",
       "    <tr>\n",
       "      <th>0</th>\n",
       "      <td>8</td>\n",
       "      <td>c</td>\n",
       "      <td>3</td>\n",
       "      <td>Z</td>\n",
       "      <td>3</td>\n",
       "      <td>radiotherapy</td>\n",
       "      <td>R</td>\n",
       "      <td>F</td>\n",
       "      <td>2.0</td>\n",
       "      <td>7.0</td>\n",
       "      <td>Emergency</td>\n",
       "      <td>Extreme</td>\n",
       "      <td>2</td>\n",
       "      <td>51-60</td>\n",
       "      <td>4911</td>\n",
       "      <td>0-10</td>\n",
       "    </tr>\n",
       "    <tr>\n",
       "      <th>1</th>\n",
       "      <td>2</td>\n",
       "      <td>c</td>\n",
       "      <td>5</td>\n",
       "      <td>Z</td>\n",
       "      <td>2</td>\n",
       "      <td>radiotherapy</td>\n",
       "      <td>S</td>\n",
       "      <td>F</td>\n",
       "      <td>2.0</td>\n",
       "      <td>7.0</td>\n",
       "      <td>Trauma</td>\n",
       "      <td>Extreme</td>\n",
       "      <td>2</td>\n",
       "      <td>51-60</td>\n",
       "      <td>5954</td>\n",
       "      <td>41-50</td>\n",
       "    </tr>\n",
       "    <tr>\n",
       "      <th>2</th>\n",
       "      <td>10</td>\n",
       "      <td>e</td>\n",
       "      <td>1</td>\n",
       "      <td>X</td>\n",
       "      <td>2</td>\n",
       "      <td>anesthesia</td>\n",
       "      <td>S</td>\n",
       "      <td>E</td>\n",
       "      <td>2.0</td>\n",
       "      <td>7.0</td>\n",
       "      <td>Trauma</td>\n",
       "      <td>Extreme</td>\n",
       "      <td>2</td>\n",
       "      <td>51-60</td>\n",
       "      <td>4745</td>\n",
       "      <td>31-40</td>\n",
       "    </tr>\n",
       "    <tr>\n",
       "      <th>3</th>\n",
       "      <td>26</td>\n",
       "      <td>b</td>\n",
       "      <td>2</td>\n",
       "      <td>Y</td>\n",
       "      <td>2</td>\n",
       "      <td>radiotherapy</td>\n",
       "      <td>R</td>\n",
       "      <td>D</td>\n",
       "      <td>2.0</td>\n",
       "      <td>7.0</td>\n",
       "      <td>Trauma</td>\n",
       "      <td>Extreme</td>\n",
       "      <td>2</td>\n",
       "      <td>51-60</td>\n",
       "      <td>7272</td>\n",
       "      <td>41-50</td>\n",
       "    </tr>\n",
       "    <tr>\n",
       "      <th>4</th>\n",
       "      <td>26</td>\n",
       "      <td>b</td>\n",
       "      <td>2</td>\n",
       "      <td>Y</td>\n",
       "      <td>2</td>\n",
       "      <td>radiotherapy</td>\n",
       "      <td>S</td>\n",
       "      <td>D</td>\n",
       "      <td>2.0</td>\n",
       "      <td>7.0</td>\n",
       "      <td>Trauma</td>\n",
       "      <td>Extreme</td>\n",
       "      <td>2</td>\n",
       "      <td>51-60</td>\n",
       "      <td>5558</td>\n",
       "      <td>41-50</td>\n",
       "    </tr>\n",
       "  </tbody>\n",
       "</table>\n",
       "</div>"
      ],
      "text/plain": [
       "   Hospital_code Hospital_type_code  City_Code_Hospital Hospital_region_code  \\\n",
       "0              8                  c                   3                    Z   \n",
       "1              2                  c                   5                    Z   \n",
       "2             10                  e                   1                    X   \n",
       "3             26                  b                   2                    Y   \n",
       "4             26                  b                   2                    Y   \n",
       "\n",
       "   Available_Extra_Rooms_in_Hospital    Department Ward_Type  \\\n",
       "0                                  3  radiotherapy         R   \n",
       "1                                  2  radiotherapy         S   \n",
       "2                                  2    anesthesia         S   \n",
       "3                                  2  radiotherapy         R   \n",
       "4                                  2  radiotherapy         S   \n",
       "\n",
       "  Ward_Facility_Code  Bed_Grade  City_Code_Patient Type_of_Admission  \\\n",
       "0                  F        2.0                7.0         Emergency   \n",
       "1                  F        2.0                7.0            Trauma   \n",
       "2                  E        2.0                7.0            Trauma   \n",
       "3                  D        2.0                7.0            Trauma   \n",
       "4                  D        2.0                7.0            Trauma   \n",
       "\n",
       "  Severity_of_Illness  Visitors_with_Patient    Age  Admission_Deposit   Stay  \n",
       "0             Extreme                      2  51-60               4911   0-10  \n",
       "1             Extreme                      2  51-60               5954  41-50  \n",
       "2             Extreme                      2  51-60               4745  31-40  \n",
       "3             Extreme                      2  51-60               7272  41-50  \n",
       "4             Extreme                      2  51-60               5558  41-50  "
      ]
     },
     "execution_count": 41,
     "metadata": {},
     "output_type": "execute_result"
    }
   ],
   "source": [
    "df_new.head()"
   ]
  },
  {
   "cell_type": "code",
   "execution_count": 42,
   "id": "ed5a8614",
   "metadata": {},
   "outputs": [
    {
     "data": {
      "text/plain": [
       "21-30                 87491\n",
       "Nov-20                78139\n",
       "31-40                 55159\n",
       "51-60                 35018\n",
       "0-10                  23604\n",
       "41-50                 11743\n",
       "71-80                 10254\n",
       "More than 100 Days     6683\n",
       "81-90                  4838\n",
       "91-100                 2765\n",
       "61-70                  2744\n",
       "Name: Stay, dtype: int64"
      ]
     },
     "execution_count": 42,
     "metadata": {},
     "output_type": "execute_result"
    }
   ],
   "source": [
    "# check the distribution of target classes\n",
    "\n",
    "df_new.Stay.value_counts()"
   ]
  },
  {
   "cell_type": "code",
   "execution_count": 43,
   "id": "ac856276",
   "metadata": {},
   "outputs": [
    {
     "data": {
      "text/plain": [
       "<AxesSubplot:xlabel='Stay', ylabel='count'>"
      ]
     },
     "execution_count": 43,
     "metadata": {},
     "output_type": "execute_result"
    },
    {
     "data": {
      "image/png": "[encoded data removed]",
      "text/plain": [
       "<Figure size 1440x360 with 1 Axes>"
      ]
     },
     "metadata": {
      "needs_background": "light"
     },
     "output_type": "display_data"
    }
   ],
   "source": [
    "plt.figure(figsize=(20,5))\n",
    "sns.set_style('whitegrid')\n",
    "sns.countplot(x='Stay',data=df_new,palette='RdBu_r')"
   ]
  },
  {
   "cell_type": "markdown",
   "id": "6c4289ce",
   "metadata": {},
   "source": [
    "The **data is imbalanced** as the target classes have a lot of variations. Hence, to understand the performance of the model we'll build for this use case, instead of accuracy, metrics such as recall, precision, f1 score & roc_auc score needs to be considered. This will be covered below."
   ]
  },
  {
   "cell_type": "code",
   "execution_count": 44,
   "id": "32730e15",
   "metadata": {
    "scrolled": true
   },
   "outputs": [
    {
     "name": "stdout",
     "output_type": "stream",
     "text": [
      "Number of numerical variables:  7\n"
     ]
    },
    {
     "data": {
      "text/html": [
       "<div>\n",
       "<style scoped>\n",
       "    .dataframe tbody tr th:only-of-type {\n",
       "        vertical-align: middle;\n",
       "    }\n",
       "\n",
       "    .dataframe tbody tr th {\n",
       "        vertical-align: top;\n",
       "    }\n",
       "\n",
       "    .dataframe thead th {\n",
       "        text-align: right;\n",
       "    }\n",
       "</style>\n",
       "<table border=\"1\" class=\"dataframe\">\n",
       "  <thead>\n",
       "    <tr style=\"text-align: right;\">\n",
       "      <th></th>\n",
       "      <th>Hospital_code</th>\n",
       "      <th>City_Code_Hospital</th>\n",
       "      <th>Available_Extra_Rooms_in_Hospital</th>\n",
       "      <th>Bed_Grade</th>\n",
       "      <th>City_Code_Patient</th>\n",
       "      <th>Visitors_with_Patient</th>\n",
       "      <th>Admission_Deposit</th>\n",
       "    </tr>\n",
       "  </thead>\n",
       "  <tbody>\n",
       "    <tr>\n",
       "      <th>0</th>\n",
       "      <td>8</td>\n",
       "      <td>3</td>\n",
       "      <td>3</td>\n",
       "      <td>2.0</td>\n",
       "      <td>7.0</td>\n",
       "      <td>2</td>\n",
       "      <td>4911</td>\n",
       "    </tr>\n",
       "    <tr>\n",
       "      <th>1</th>\n",
       "      <td>2</td>\n",
       "      <td>5</td>\n",
       "      <td>2</td>\n",
       "      <td>2.0</td>\n",
       "      <td>7.0</td>\n",
       "      <td>2</td>\n",
       "      <td>5954</td>\n",
       "    </tr>\n",
       "    <tr>\n",
       "      <th>2</th>\n",
       "      <td>10</td>\n",
       "      <td>1</td>\n",
       "      <td>2</td>\n",
       "      <td>2.0</td>\n",
       "      <td>7.0</td>\n",
       "      <td>2</td>\n",
       "      <td>4745</td>\n",
       "    </tr>\n",
       "    <tr>\n",
       "      <th>3</th>\n",
       "      <td>26</td>\n",
       "      <td>2</td>\n",
       "      <td>2</td>\n",
       "      <td>2.0</td>\n",
       "      <td>7.0</td>\n",
       "      <td>2</td>\n",
       "      <td>7272</td>\n",
       "    </tr>\n",
       "    <tr>\n",
       "      <th>4</th>\n",
       "      <td>26</td>\n",
       "      <td>2</td>\n",
       "      <td>2</td>\n",
       "      <td>2.0</td>\n",
       "      <td>7.0</td>\n",
       "      <td>2</td>\n",
       "      <td>5558</td>\n",
       "    </tr>\n",
       "  </tbody>\n",
       "</table>\n",
       "</div>"
      ],
      "text/plain": [
       "   Hospital_code  City_Code_Hospital  Available_Extra_Rooms_in_Hospital  \\\n",
       "0              8                   3                                  3   \n",
       "1              2                   5                                  2   \n",
       "2             10                   1                                  2   \n",
       "3             26                   2                                  2   \n",
       "4             26                   2                                  2   \n",
       "\n",
       "   Bed_Grade  City_Code_Patient  Visitors_with_Patient  Admission_Deposit  \n",
       "0        2.0                7.0                      2               4911  \n",
       "1        2.0                7.0                      2               5954  \n",
       "2        2.0                7.0                      2               4745  \n",
       "3        2.0                7.0                      2               7272  \n",
       "4        2.0                7.0                      2               5558  "
      ]
     },
     "execution_count": 44,
     "metadata": {},
     "output_type": "execute_result"
    }
   ],
   "source": [
    "# list of numerical variables\n",
    "numerical_features = [feature for feature in df_new.columns if df_new[feature].dtypes != 'O']\n",
    "\n",
    "print('Number of numerical variables: ', len(numerical_features))\n",
    "\n",
    "# visualise the numerical variables\n",
    "df_new[numerical_features].head()"
   ]
  },
  {
   "cell_type": "markdown",
   "id": "11dc4af1",
   "metadata": {},
   "source": [
    "Numerical variables are usually of 2 type:\n",
    "1. Continuous variable\n",
    "2. Discrete Variables"
   ]
  },
  {
   "cell_type": "code",
   "execution_count": 45,
   "id": "375fc2ba",
   "metadata": {
    "scrolled": true
   },
   "outputs": [
    {
     "name": "stdout",
     "output_type": "stream",
     "text": [
      "Discrete Variables Count:  6\n"
     ]
    }
   ],
   "source": [
    "# Discrete variable\n",
    "discrete_feature=[feature for feature in numerical_features if len(df_new[feature].unique())<50]\n",
    "print(\"Discrete Variables Count: \", len(discrete_feature))\n",
    "\n",
    "# considering 50 as a threshold of no. of unique values in a column"
   ]
  },
  {
   "cell_type": "code",
   "execution_count": 46,
   "id": "115f3afd",
   "metadata": {
    "scrolled": true
   },
   "outputs": [
    {
     "data": {
      "text/plain": [
       "['Hospital_code',\n",
       " 'City_Code_Hospital',\n",
       " 'Available_Extra_Rooms_in_Hospital',\n",
       " 'Bed_Grade',\n",
       " 'City_Code_Patient',\n",
       " 'Visitors_with_Patient']"
      ]
     },
     "execution_count": 46,
     "metadata": {},
     "output_type": "execute_result"
    }
   ],
   "source": [
    "discrete_feature"
   ]
  },
  {
   "cell_type": "code",
   "execution_count": 47,
   "id": "4ef1b38d",
   "metadata": {
    "scrolled": false
   },
   "outputs": [
    {
     "data": {
      "image/png": "[encoded data removed]",
      "text/plain": [
       "<Figure size 2160x1440 with 6 Axes>"
      ]
     },
     "metadata": {},
     "output_type": "display_data"
    }
   ],
   "source": [
    "## Analyzing the discrete features\n",
    "\n",
    "plt.figure(figsize=(30,20))\n",
    "plotnumber = 1\n",
    "\n",
    "for feature in discrete_feature:\n",
    "    if plotnumber<=6 :\n",
    "        ax = plt.subplot(2,3,plotnumber)\n",
    "        sns.countplot(x=feature, data=df_new, palette=\"Set2\")\n",
    "        plt.xlabel(feature,fontsize=20)\n",
    "    plotnumber+=1\n",
    "plt.show()"
   ]
  },
  {
   "cell_type": "markdown",
   "id": "3159713f",
   "metadata": {},
   "source": [
    "#### Insights from the graph\n",
    "1. Available extra rooms: 2-4 are majority of the occurrences.\n",
    "2. Bed grade: 2, 3 & 4 are the majority occurrences.\n",
    "3. Visitors with patient: majority of the times patients are visited by 2-4 visitors\n",
    "4. City code patient with code 8 has the major occurrences."
   ]
  },
  {
   "cell_type": "code",
   "execution_count": 48,
   "id": "541c56a0",
   "metadata": {
    "scrolled": true
   },
   "outputs": [
    {
     "name": "stdout",
     "output_type": "stream",
     "text": [
      "Continuous feature Count  1\n"
     ]
    }
   ],
   "source": [
    "# continuous variables\n",
    "\n",
    "continuous_feature=[feature for feature in numerical_features if feature not in discrete_feature]\n",
    "print(\"Continuous feature Count \", len(continuous_feature))"
   ]
  },
  {
   "cell_type": "code",
   "execution_count": 49,
   "id": "2c03cfc3",
   "metadata": {
    "scrolled": true
   },
   "outputs": [
    {
     "data": {
      "image/png": "[encoded data removed]",
      "text/plain": [
       "<Figure size 432x288 with 1 Axes>"
      ]
     },
     "metadata": {},
     "output_type": "display_data"
    }
   ],
   "source": [
    "## Lets analyse the continuous values by creating histograms to understand the distribution\n",
    "\n",
    "for feature in continuous_feature:\n",
    "    df_new[feature].hist(bins=25)\n",
    "    plt.xlabel(feature)\n",
    "    plt.ylabel(\"Count\")\n",
    "    plt.title(feature)\n",
    "    plt.show()"
   ]
  },
  {
   "cell_type": "markdown",
   "id": "6958c818",
   "metadata": {},
   "source": [
    "#### Insights from the graph\n",
    "1. The feature shows normal distribution.\n",
    "2. The majority count of admission deposit is in the range of 4000-6000"
   ]
  },
  {
   "cell_type": "code",
   "execution_count": 50,
   "id": "2b9f4b5d",
   "metadata": {
    "scrolled": true
   },
   "outputs": [
    {
     "data": {
      "text/plain": [
       "{'Hospital_type_code': array(['c', 'e', 'b', 'a', 'f', 'd', 'g'], dtype=object),\n",
       " 'Hospital_region_code': array(['Z', 'X', 'Y'], dtype=object),\n",
       " 'Department': array(['radiotherapy', 'anesthesia', 'gynecology', 'TB & Chest disease',\n",
       "        'surgery'], dtype=object),\n",
       " 'Ward_Type': array(['R', 'S', 'Q', 'P', 'T', 'U'], dtype=object),\n",
       " 'Ward_Facility_Code': array(['F', 'E', 'D', 'B', 'A', 'C'], dtype=object),\n",
       " 'Type_of_Admission': array(['Emergency', 'Trauma', 'Urgent'], dtype=object),\n",
       " 'Severity_of_Illness': array(['Extreme', 'Moderate', 'Minor'], dtype=object),\n",
       " 'Age': array(['51-60', '71-80', '31-40', '41-50', '81-90', '61-70', '21-30',\n",
       "        'Nov-20', '0-10', '91-100'], dtype=object),\n",
       " 'Stay': array(['0-10', '41-50', '31-40', 'Nov-20', '51-60', '21-30', '71-80',\n",
       "        'More than 100 Days', '81-90', '61-70', '91-100'], dtype=object)}"
      ]
     },
     "execution_count": 50,
     "metadata": {},
     "output_type": "execute_result"
    }
   ],
   "source": [
    "## Check the categorical features\n",
    "# to get the unique values from all the columns with dtype=object--> checking cardinality\n",
    "\n",
    "def get_categorical_uniques(df_new):\n",
    "    categorical_columns = [column for column in df_new.dtypes.index if df_new.dtypes[column] == 'object'] \n",
    "    categorical_uniques = {column: df_new[column].unique() for column in categorical_columns}\n",
    "    \n",
    "    return categorical_uniques\n",
    "\n",
    "categorical_uniques = get_categorical_uniques(df_new)\n",
    "categorical_uniques"
   ]
  },
  {
   "cell_type": "code",
   "execution_count": 51,
   "id": "5a8c1138",
   "metadata": {},
   "outputs": [
    {
     "name": "stdout",
     "output_type": "stream",
     "text": [
      "Categorical variables  9\n"
     ]
    }
   ],
   "source": [
    "print(\"Categorical variables \", len(categorical_uniques))"
   ]
  },
  {
   "cell_type": "markdown",
   "id": "9c493efd",
   "metadata": {},
   "source": [
    "The **\"Age\"** & **\"Stay\"** columns have a category with **'Nov-20'** which is incorrect & should be replaced with **'11-20'**.\n",
    "To avoid data leakage, it's better to first preform data transformations to train & test data separately.\n",
    "Hence, we need to split the data into train & test data."
   ]
  },
  {
   "cell_type": "code",
   "execution_count": 52,
   "id": "d6de209e",
   "metadata": {},
   "outputs": [],
   "source": [
    "from sklearn.model_selection import train_test_split\n",
    "train, test = train_test_split(df_new, test_size=0.2, random_state=42)"
   ]
  },
  {
   "cell_type": "code",
   "execution_count": 53,
   "id": "df6f9c90",
   "metadata": {},
   "outputs": [
    {
     "name": "stdout",
     "output_type": "stream",
     "text": [
      " train:  (254750, 16)\n",
      " test:  (63688, 16)\n"
     ]
    }
   ],
   "source": [
    "print(' train: ', train.shape)\n",
    "print(' test: ', test.shape)"
   ]
  },
  {
   "cell_type": "markdown",
   "id": "2899ab82",
   "metadata": {},
   "source": [
    "## Train data"
   ]
  },
  {
   "cell_type": "code",
   "execution_count": 54,
   "id": "dbd4420a",
   "metadata": {
    "scrolled": true
   },
   "outputs": [
    {
     "name": "stdout",
     "output_type": "stream",
     "text": [
      "Age:  ['41-50' '61-70' '21-30' '51-60' '71-80' '31-40' '0-10' '11-20' '81-90'\n",
      " '91-100']\n",
      "Stay:  ['21-30' 'More than 100 Days' '11-20' '61-70' '51-60' '31-40' '0-10'\n",
      " '71-80' '41-50' '91-100' '81-90']\n"
     ]
    }
   ],
   "source": [
    "# The \"Age\" & \"Stay\" columns have a category with 'Nov-20' which is incorrect & should be replaced with '11-20'\n",
    "\n",
    "train[\"Age\"].replace('Nov-20','11-20',inplace=True)\n",
    "train[\"Stay\"].replace('Nov-20','11-20',inplace=True)\n",
    "print('Age: ', train[\"Age\"].unique())\n",
    "print('Stay: ', train[\"Stay\"].unique())"
   ]
  },
  {
   "cell_type": "markdown",
   "id": "0896c08a",
   "metadata": {},
   "source": [
    "The dataset has 9 categorical variables(features) out of which few are nominal type while others are of ordinal type."
   ]
  },
  {
   "cell_type": "markdown",
   "id": "9a0c0e15",
   "metadata": {},
   "source": [
    "## Handling Categorical features\n",
    "Types of categorical features in this dataset are:\n",
    "\n",
    "1. **Nominal data** ==> data is not in any order ==> **OneHotEncoder** is used in this case\n",
    "2. **Ordinal data** ==> data is in order ==> **LabelEncoder** is used in this case"
   ]
  },
  {
   "cell_type": "markdown",
   "id": "b894d3f4",
   "metadata": {},
   "source": [
    "### Label encoding\n",
    "Features such such **'Type_of_Admission', 'Severity_of_Illness', 'Age'** & **'Stay'** are ordinal data which must be Label encoded"
   ]
  },
  {
   "cell_type": "code",
   "execution_count": 55,
   "id": "f8dca551",
   "metadata": {
    "scrolled": true
   },
   "outputs": [],
   "source": [
    "categorical_uniques_train = get_categorical_uniques(train)"
   ]
  },
  {
   "cell_type": "code",
   "execution_count": 56,
   "id": "ebb40b2c",
   "metadata": {
    "scrolled": true
   },
   "outputs": [
    {
     "data": {
      "text/plain": [
       "['0-10',\n",
       " '11-20',\n",
       " '21-30',\n",
       " '31-40',\n",
       " '41-50',\n",
       " '51-60',\n",
       " '61-70',\n",
       " '71-80',\n",
       " '81-90',\n",
       " '91-100',\n",
       " 'More than 100 Days']"
      ]
     },
     "execution_count": 56,
     "metadata": {},
     "output_type": "execute_result"
    }
   ],
   "source": [
    "categorical_uniques_train['Stay'] = sorted(categorical_uniques_train['Stay'])\n",
    "categorical_uniques_train['Stay']"
   ]
  },
  {
   "cell_type": "code",
   "execution_count": 57,
   "id": "2f019bb2",
   "metadata": {
    "scrolled": true
   },
   "outputs": [
    {
     "data": {
      "text/plain": [
       "{'0-10': 0,\n",
       " '11-20': 1,\n",
       " '21-30': 2,\n",
       " '31-40': 3,\n",
       " '41-50': 4,\n",
       " '51-60': 5,\n",
       " '61-70': 6,\n",
       " '71-80': 7,\n",
       " '81-90': 8,\n",
       " '91-100': 9,\n",
       " 'More than 100 Days': 10}"
      ]
     },
     "execution_count": 57,
     "metadata": {},
     "output_type": "execute_result"
    }
   ],
   "source": [
    "# converting categories of Stay column into ordered numeric type\n",
    "\n",
    "stay_mappings_train = {value: index for index, value in enumerate(categorical_uniques_train['Stay'])}\n",
    "train[\"Stay\"] = train[\"Stay\"].replace(stay_mappings_train)\n",
    "stay_mappings_train"
   ]
  },
  {
   "cell_type": "code",
   "execution_count": 58,
   "id": "9247ec97",
   "metadata": {
    "scrolled": true
   },
   "outputs": [
    {
     "data": {
      "text/plain": [
       "['0-10',\n",
       " '11-20',\n",
       " '21-30',\n",
       " '31-40',\n",
       " '41-50',\n",
       " '51-60',\n",
       " '61-70',\n",
       " '71-80',\n",
       " '81-90',\n",
       " '91-100']"
      ]
     },
     "execution_count": 58,
     "metadata": {},
     "output_type": "execute_result"
    }
   ],
   "source": [
    "categorical_uniques_train['Age'] = sorted(categorical_uniques_train['Age'])\n",
    "categorical_uniques_train['Age']"
   ]
  },
  {
   "cell_type": "code",
   "execution_count": 59,
   "id": "6671d8ba",
   "metadata": {
    "scrolled": true
   },
   "outputs": [
    {
     "data": {
      "text/plain": [
       "{'0-10': 0,\n",
       " '11-20': 1,\n",
       " '21-30': 2,\n",
       " '31-40': 3,\n",
       " '41-50': 4,\n",
       " '51-60': 5,\n",
       " '61-70': 6,\n",
       " '71-80': 7,\n",
       " '81-90': 8,\n",
       " '91-100': 9}"
      ]
     },
     "execution_count": 59,
     "metadata": {},
     "output_type": "execute_result"
    }
   ],
   "source": [
    "age_mapping_train = {value: index for index, value in enumerate(categorical_uniques_train['Age'])}\n",
    "train[\"Age\"] = train[\"Age\"].replace(age_mapping_train)\n",
    "age_mapping_train"
   ]
  },
  {
   "cell_type": "code",
   "execution_count": 60,
   "id": "ec3e92ed",
   "metadata": {
    "scrolled": true
   },
   "outputs": [
    {
     "data": {
      "text/html": [
       "<div>\n",
       "<style scoped>\n",
       "    .dataframe tbody tr th:only-of-type {\n",
       "        vertical-align: middle;\n",
       "    }\n",
       "\n",
       "    .dataframe tbody tr th {\n",
       "        vertical-align: top;\n",
       "    }\n",
       "\n",
       "    .dataframe thead th {\n",
       "        text-align: right;\n",
       "    }\n",
       "</style>\n",
       "<table border=\"1\" class=\"dataframe\">\n",
       "  <thead>\n",
       "    <tr style=\"text-align: right;\">\n",
       "      <th></th>\n",
       "      <th>Hospital_code</th>\n",
       "      <th>Hospital_type_code</th>\n",
       "      <th>City_Code_Hospital</th>\n",
       "      <th>Hospital_region_code</th>\n",
       "      <th>Available_Extra_Rooms_in_Hospital</th>\n",
       "      <th>Department</th>\n",
       "      <th>Ward_Type</th>\n",
       "      <th>Ward_Facility_Code</th>\n",
       "      <th>Bed_Grade</th>\n",
       "      <th>City_Code_Patient</th>\n",
       "      <th>Type_of_Admission</th>\n",
       "      <th>Severity_of_Illness</th>\n",
       "      <th>Visitors_with_Patient</th>\n",
       "      <th>Age</th>\n",
       "      <th>Admission_Deposit</th>\n",
       "      <th>Stay</th>\n",
       "    </tr>\n",
       "  </thead>\n",
       "  <tbody>\n",
       "    <tr>\n",
       "      <th>231676</th>\n",
       "      <td>19</td>\n",
       "      <td>a</td>\n",
       "      <td>7</td>\n",
       "      <td>Y</td>\n",
       "      <td>4</td>\n",
       "      <td>gynecology</td>\n",
       "      <td>Q</td>\n",
       "      <td>C</td>\n",
       "      <td>2.0</td>\n",
       "      <td>8.0</td>\n",
       "      <td>3</td>\n",
       "      <td>Moderate</td>\n",
       "      <td>4</td>\n",
       "      <td>4</td>\n",
       "      <td>6247</td>\n",
       "      <td>2</td>\n",
       "    </tr>\n",
       "    <tr>\n",
       "      <th>166821</th>\n",
       "      <td>19</td>\n",
       "      <td>a</td>\n",
       "      <td>7</td>\n",
       "      <td>Y</td>\n",
       "      <td>2</td>\n",
       "      <td>radiotherapy</td>\n",
       "      <td>S</td>\n",
       "      <td>C</td>\n",
       "      <td>1.0</td>\n",
       "      <td>2.0</td>\n",
       "      <td>3</td>\n",
       "      <td>Moderate</td>\n",
       "      <td>6</td>\n",
       "      <td>6</td>\n",
       "      <td>8000</td>\n",
       "      <td>10</td>\n",
       "    </tr>\n",
       "    <tr>\n",
       "      <th>70566</th>\n",
       "      <td>26</td>\n",
       "      <td>b</td>\n",
       "      <td>2</td>\n",
       "      <td>Y</td>\n",
       "      <td>2</td>\n",
       "      <td>radiotherapy</td>\n",
       "      <td>R</td>\n",
       "      <td>D</td>\n",
       "      <td>3.0</td>\n",
       "      <td>7.0</td>\n",
       "      <td>3</td>\n",
       "      <td>Extreme</td>\n",
       "      <td>3</td>\n",
       "      <td>2</td>\n",
       "      <td>4987</td>\n",
       "      <td>1</td>\n",
       "    </tr>\n",
       "    <tr>\n",
       "      <th>197982</th>\n",
       "      <td>26</td>\n",
       "      <td>b</td>\n",
       "      <td>2</td>\n",
       "      <td>Y</td>\n",
       "      <td>2</td>\n",
       "      <td>gynecology</td>\n",
       "      <td>Q</td>\n",
       "      <td>D</td>\n",
       "      <td>3.0</td>\n",
       "      <td>14.0</td>\n",
       "      <td>1</td>\n",
       "      <td>Moderate</td>\n",
       "      <td>3</td>\n",
       "      <td>6</td>\n",
       "      <td>7210</td>\n",
       "      <td>6</td>\n",
       "    </tr>\n",
       "    <tr>\n",
       "      <th>280389</th>\n",
       "      <td>18</td>\n",
       "      <td>d</td>\n",
       "      <td>13</td>\n",
       "      <td>Y</td>\n",
       "      <td>4</td>\n",
       "      <td>radiotherapy</td>\n",
       "      <td>R</td>\n",
       "      <td>B</td>\n",
       "      <td>2.0</td>\n",
       "      <td>8.0</td>\n",
       "      <td>2</td>\n",
       "      <td>Moderate</td>\n",
       "      <td>2</td>\n",
       "      <td>4</td>\n",
       "      <td>3178</td>\n",
       "      <td>5</td>\n",
       "    </tr>\n",
       "  </tbody>\n",
       "</table>\n",
       "</div>"
      ],
      "text/plain": [
       "        Hospital_code Hospital_type_code  City_Code_Hospital  \\\n",
       "231676             19                  a                   7   \n",
       "166821             19                  a                   7   \n",
       "70566              26                  b                   2   \n",
       "197982             26                  b                   2   \n",
       "280389             18                  d                  13   \n",
       "\n",
       "       Hospital_region_code  Available_Extra_Rooms_in_Hospital    Department  \\\n",
       "231676                    Y                                  4    gynecology   \n",
       "166821                    Y                                  2  radiotherapy   \n",
       "70566                     Y                                  2  radiotherapy   \n",
       "197982                    Y                                  2    gynecology   \n",
       "280389                    Y                                  4  radiotherapy   \n",
       "\n",
       "       Ward_Type Ward_Facility_Code  Bed_Grade  City_Code_Patient  \\\n",
       "231676         Q                  C        2.0                8.0   \n",
       "166821         S                  C        1.0                2.0   \n",
       "70566          R                  D        3.0                7.0   \n",
       "197982         Q                  D        3.0               14.0   \n",
       "280389         R                  B        2.0                8.0   \n",
       "\n",
       "        Type_of_Admission Severity_of_Illness  Visitors_with_Patient  Age  \\\n",
       "231676                  3            Moderate                      4    4   \n",
       "166821                  3            Moderate                      6    6   \n",
       "70566                   3             Extreme                      3    2   \n",
       "197982                  1            Moderate                      3    6   \n",
       "280389                  2            Moderate                      2    4   \n",
       "\n",
       "        Admission_Deposit  Stay  \n",
       "231676               6247     2  \n",
       "166821               8000    10  \n",
       "70566                4987     1  \n",
       "197982               7210     6  \n",
       "280389               3178     5  "
      ]
     },
     "execution_count": 60,
     "metadata": {},
     "output_type": "execute_result"
    }
   ],
   "source": [
    "type_adm_mapping_train = {\"Trauma\":1, \"Urgent\":2, \"Emergency\":3}\n",
    "train[\"Type_of_Admission\"] = train[\"Type_of_Admission\"].replace(type_adm_mapping_train)\n",
    "train.head()"
   ]
  },
  {
   "cell_type": "code",
   "execution_count": 61,
   "id": "71aa5873",
   "metadata": {
    "scrolled": true
   },
   "outputs": [
    {
     "data": {
      "text/html": [
       "<div>\n",
       "<style scoped>\n",
       "    .dataframe tbody tr th:only-of-type {\n",
       "        vertical-align: middle;\n",
       "    }\n",
       "\n",
       "    .dataframe tbody tr th {\n",
       "        vertical-align: top;\n",
       "    }\n",
       "\n",
       "    .dataframe thead th {\n",
       "        text-align: right;\n",
       "    }\n",
       "</style>\n",
       "<table border=\"1\" class=\"dataframe\">\n",
       "  <thead>\n",
       "    <tr style=\"text-align: right;\">\n",
       "      <th></th>\n",
       "      <th>Hospital_code</th>\n",
       "      <th>Hospital_type_code</th>\n",
       "      <th>City_Code_Hospital</th>\n",
       "      <th>Hospital_region_code</th>\n",
       "      <th>Available_Extra_Rooms_in_Hospital</th>\n",
       "      <th>Department</th>\n",
       "      <th>Ward_Type</th>\n",
       "      <th>Ward_Facility_Code</th>\n",
       "      <th>Bed_Grade</th>\n",
       "      <th>City_Code_Patient</th>\n",
       "      <th>Type_of_Admission</th>\n",
       "      <th>Severity_of_Illness</th>\n",
       "      <th>Visitors_with_Patient</th>\n",
       "      <th>Age</th>\n",
       "      <th>Admission_Deposit</th>\n",
       "      <th>Stay</th>\n",
       "    </tr>\n",
       "  </thead>\n",
       "  <tbody>\n",
       "    <tr>\n",
       "      <th>231676</th>\n",
       "      <td>19</td>\n",
       "      <td>a</td>\n",
       "      <td>7</td>\n",
       "      <td>Y</td>\n",
       "      <td>4</td>\n",
       "      <td>gynecology</td>\n",
       "      <td>Q</td>\n",
       "      <td>C</td>\n",
       "      <td>2.0</td>\n",
       "      <td>8.0</td>\n",
       "      <td>3</td>\n",
       "      <td>2</td>\n",
       "      <td>4</td>\n",
       "      <td>4</td>\n",
       "      <td>6247</td>\n",
       "      <td>2</td>\n",
       "    </tr>\n",
       "    <tr>\n",
       "      <th>166821</th>\n",
       "      <td>19</td>\n",
       "      <td>a</td>\n",
       "      <td>7</td>\n",
       "      <td>Y</td>\n",
       "      <td>2</td>\n",
       "      <td>radiotherapy</td>\n",
       "      <td>S</td>\n",
       "      <td>C</td>\n",
       "      <td>1.0</td>\n",
       "      <td>2.0</td>\n",
       "      <td>3</td>\n",
       "      <td>2</td>\n",
       "      <td>6</td>\n",
       "      <td>6</td>\n",
       "      <td>8000</td>\n",
       "      <td>10</td>\n",
       "    </tr>\n",
       "    <tr>\n",
       "      <th>70566</th>\n",
       "      <td>26</td>\n",
       "      <td>b</td>\n",
       "      <td>2</td>\n",
       "      <td>Y</td>\n",
       "      <td>2</td>\n",
       "      <td>radiotherapy</td>\n",
       "      <td>R</td>\n",
       "      <td>D</td>\n",
       "      <td>3.0</td>\n",
       "      <td>7.0</td>\n",
       "      <td>3</td>\n",
       "      <td>3</td>\n",
       "      <td>3</td>\n",
       "      <td>2</td>\n",
       "      <td>4987</td>\n",
       "      <td>1</td>\n",
       "    </tr>\n",
       "    <tr>\n",
       "      <th>197982</th>\n",
       "      <td>26</td>\n",
       "      <td>b</td>\n",
       "      <td>2</td>\n",
       "      <td>Y</td>\n",
       "      <td>2</td>\n",
       "      <td>gynecology</td>\n",
       "      <td>Q</td>\n",
       "      <td>D</td>\n",
       "      <td>3.0</td>\n",
       "      <td>14.0</td>\n",
       "      <td>1</td>\n",
       "      <td>2</td>\n",
       "      <td>3</td>\n",
       "      <td>6</td>\n",
       "      <td>7210</td>\n",
       "      <td>6</td>\n",
       "    </tr>\n",
       "    <tr>\n",
       "      <th>280389</th>\n",
       "      <td>18</td>\n",
       "      <td>d</td>\n",
       "      <td>13</td>\n",
       "      <td>Y</td>\n",
       "      <td>4</td>\n",
       "      <td>radiotherapy</td>\n",
       "      <td>R</td>\n",
       "      <td>B</td>\n",
       "      <td>2.0</td>\n",
       "      <td>8.0</td>\n",
       "      <td>2</td>\n",
       "      <td>2</td>\n",
       "      <td>2</td>\n",
       "      <td>4</td>\n",
       "      <td>3178</td>\n",
       "      <td>5</td>\n",
       "    </tr>\n",
       "  </tbody>\n",
       "</table>\n",
       "</div>"
      ],
      "text/plain": [
       "        Hospital_code Hospital_type_code  City_Code_Hospital  \\\n",
       "231676             19                  a                   7   \n",
       "166821             19                  a                   7   \n",
       "70566              26                  b                   2   \n",
       "197982             26                  b                   2   \n",
       "280389             18                  d                  13   \n",
       "\n",
       "       Hospital_region_code  Available_Extra_Rooms_in_Hospital    Department  \\\n",
       "231676                    Y                                  4    gynecology   \n",
       "166821                    Y                                  2  radiotherapy   \n",
       "70566                     Y                                  2  radiotherapy   \n",
       "197982                    Y                                  2    gynecology   \n",
       "280389                    Y                                  4  radiotherapy   \n",
       "\n",
       "       Ward_Type Ward_Facility_Code  Bed_Grade  City_Code_Patient  \\\n",
       "231676         Q                  C        2.0                8.0   \n",
       "166821         S                  C        1.0                2.0   \n",
       "70566          R                  D        3.0                7.0   \n",
       "197982         Q                  D        3.0               14.0   \n",
       "280389         R                  B        2.0                8.0   \n",
       "\n",
       "        Type_of_Admission  Severity_of_Illness  Visitors_with_Patient  Age  \\\n",
       "231676                  3                    2                      4    4   \n",
       "166821                  3                    2                      6    6   \n",
       "70566                   3                    3                      3    2   \n",
       "197982                  1                    2                      3    6   \n",
       "280389                  2                    2                      2    4   \n",
       "\n",
       "        Admission_Deposit  Stay  \n",
       "231676               6247     2  \n",
       "166821               8000    10  \n",
       "70566                4987     1  \n",
       "197982               7210     6  \n",
       "280389               3178     5  "
      ]
     },
     "execution_count": 61,
     "metadata": {},
     "output_type": "execute_result"
    }
   ],
   "source": [
    "sev_ill_mapping_train = {\"Minor\":1, \"Moderate\":2, \"Extreme\":3}\n",
    "train[\"Severity_of_Illness\"] = train[\"Severity_of_Illness\"].replace(sev_ill_mapping_train)\n",
    "train.head()"
   ]
  },
  {
   "cell_type": "markdown",
   "id": "5db36613",
   "metadata": {},
   "source": [
    "## Handling missing values"
   ]
  },
  {
   "cell_type": "code",
   "execution_count": 62,
   "id": "c52e897f",
   "metadata": {
    "scrolled": true
   },
   "outputs": [
    {
     "data": {
      "text/plain": [
       "Hospital_code                           0\n",
       "Hospital_type_code                      0\n",
       "City_Code_Hospital                      0\n",
       "Hospital_region_code                    0\n",
       "Available_Extra_Rooms_in_Hospital       0\n",
       "Department                              0\n",
       "Ward_Type                               0\n",
       "Ward_Facility_Code                      0\n",
       "Bed_Grade                              94\n",
       "City_Code_Patient                    3654\n",
       "Type_of_Admission                       0\n",
       "Severity_of_Illness                     0\n",
       "Visitors_with_Patient                   0\n",
       "Age                                     0\n",
       "Admission_Deposit                       0\n",
       "Stay                                    0\n",
       "dtype: int64"
      ]
     },
     "execution_count": 62,
     "metadata": {},
     "output_type": "execute_result"
    }
   ],
   "source": [
    "# checking for null values\n",
    "\n",
    "train.isnull().sum()"
   ]
  },
  {
   "cell_type": "code",
   "execution_count": 63,
   "id": "ba311114",
   "metadata": {
    "scrolled": true
   },
   "outputs": [],
   "source": [
    "# filling missing values\n",
    "\n",
    "train['Bed_Grade']  = train['Bed_Grade'].fillna(train['Bed_Grade'].median())\n",
    "\n",
    "train['City_Code_Patient']  = train['City_Code_Patient'].fillna(train['City_Code_Patient'].median())"
   ]
  },
  {
   "cell_type": "code",
   "execution_count": 64,
   "id": "eaf82f8d",
   "metadata": {
    "scrolled": true
   },
   "outputs": [
    {
     "data": {
      "text/plain": [
       "Hospital_code                        0\n",
       "Hospital_type_code                   0\n",
       "City_Code_Hospital                   0\n",
       "Hospital_region_code                 0\n",
       "Available_Extra_Rooms_in_Hospital    0\n",
       "Department                           0\n",
       "Ward_Type                            0\n",
       "Ward_Facility_Code                   0\n",
       "Bed_Grade                            0\n",
       "City_Code_Patient                    0\n",
       "Type_of_Admission                    0\n",
       "Severity_of_Illness                  0\n",
       "Visitors_with_Patient                0\n",
       "Age                                  0\n",
       "Admission_Deposit                    0\n",
       "Stay                                 0\n",
       "dtype: int64"
      ]
     },
     "execution_count": 64,
     "metadata": {},
     "output_type": "execute_result"
    }
   ],
   "source": [
    "train.isnull().sum()"
   ]
  },
  {
   "cell_type": "markdown",
   "id": "477c18c3",
   "metadata": {},
   "source": [
    "### One hot encoding\n",
    "Columns such as **'Hospital_type_code', 'Hospital_region_code', 'Department', 'Ward_Type'** & **'Ward_Facility_Code'** seem to have no ordinality. Hence these can be one hot encoded"
   ]
  },
  {
   "cell_type": "code",
   "execution_count": 65,
   "id": "de88d963",
   "metadata": {
    "scrolled": true
   },
   "outputs": [],
   "source": [
    "# converting nominal categorical data to numeric type\n",
    "\n",
    "def onehot_encode(train,columns):\n",
    "    for column in columns:\n",
    "        dummies = pd.get_dummies(train[column])\n",
    "        train = pd.concat([train,dummies], axis=1)\n",
    "        train.drop(column, axis=1, inplace=True)\n",
    "    return train"
   ]
  },
  {
   "cell_type": "code",
   "execution_count": 66,
   "id": "3f48ac32",
   "metadata": {
    "scrolled": true
   },
   "outputs": [],
   "source": [
    "onehot_columns = ['Hospital_type_code','Hospital_region_code','Department','Ward_Type','Ward_Facility_Code']"
   ]
  },
  {
   "cell_type": "code",
   "execution_count": 67,
   "id": "b126ab81",
   "metadata": {
    "scrolled": true
   },
   "outputs": [
    {
     "data": {
      "text/html": [
       "<div>\n",
       "<style scoped>\n",
       "    .dataframe tbody tr th:only-of-type {\n",
       "        vertical-align: middle;\n",
       "    }\n",
       "\n",
       "    .dataframe tbody tr th {\n",
       "        vertical-align: top;\n",
       "    }\n",
       "\n",
       "    .dataframe thead th {\n",
       "        text-align: right;\n",
       "    }\n",
       "</style>\n",
       "<table border=\"1\" class=\"dataframe\">\n",
       "  <thead>\n",
       "    <tr style=\"text-align: right;\">\n",
       "      <th></th>\n",
       "      <th>Hospital_code</th>\n",
       "      <th>City_Code_Hospital</th>\n",
       "      <th>Available_Extra_Rooms_in_Hospital</th>\n",
       "      <th>Bed_Grade</th>\n",
       "      <th>City_Code_Patient</th>\n",
       "      <th>Type_of_Admission</th>\n",
       "      <th>Severity_of_Illness</th>\n",
       "      <th>Visitors_with_Patient</th>\n",
       "      <th>Age</th>\n",
       "      <th>Admission_Deposit</th>\n",
       "      <th>...</th>\n",
       "      <th>R</th>\n",
       "      <th>S</th>\n",
       "      <th>T</th>\n",
       "      <th>U</th>\n",
       "      <th>A</th>\n",
       "      <th>B</th>\n",
       "      <th>C</th>\n",
       "      <th>D</th>\n",
       "      <th>E</th>\n",
       "      <th>F</th>\n",
       "    </tr>\n",
       "  </thead>\n",
       "  <tbody>\n",
       "    <tr>\n",
       "      <th>231676</th>\n",
       "      <td>19</td>\n",
       "      <td>7</td>\n",
       "      <td>4</td>\n",
       "      <td>2.0</td>\n",
       "      <td>8.0</td>\n",
       "      <td>3</td>\n",
       "      <td>2</td>\n",
       "      <td>4</td>\n",
       "      <td>4</td>\n",
       "      <td>6247</td>\n",
       "      <td>...</td>\n",
       "      <td>0</td>\n",
       "      <td>0</td>\n",
       "      <td>0</td>\n",
       "      <td>0</td>\n",
       "      <td>0</td>\n",
       "      <td>0</td>\n",
       "      <td>1</td>\n",
       "      <td>0</td>\n",
       "      <td>0</td>\n",
       "      <td>0</td>\n",
       "    </tr>\n",
       "    <tr>\n",
       "      <th>166821</th>\n",
       "      <td>19</td>\n",
       "      <td>7</td>\n",
       "      <td>2</td>\n",
       "      <td>1.0</td>\n",
       "      <td>2.0</td>\n",
       "      <td>3</td>\n",
       "      <td>2</td>\n",
       "      <td>6</td>\n",
       "      <td>6</td>\n",
       "      <td>8000</td>\n",
       "      <td>...</td>\n",
       "      <td>0</td>\n",
       "      <td>1</td>\n",
       "      <td>0</td>\n",
       "      <td>0</td>\n",
       "      <td>0</td>\n",
       "      <td>0</td>\n",
       "      <td>1</td>\n",
       "      <td>0</td>\n",
       "      <td>0</td>\n",
       "      <td>0</td>\n",
       "    </tr>\n",
       "    <tr>\n",
       "      <th>70566</th>\n",
       "      <td>26</td>\n",
       "      <td>2</td>\n",
       "      <td>2</td>\n",
       "      <td>3.0</td>\n",
       "      <td>7.0</td>\n",
       "      <td>3</td>\n",
       "      <td>3</td>\n",
       "      <td>3</td>\n",
       "      <td>2</td>\n",
       "      <td>4987</td>\n",
       "      <td>...</td>\n",
       "      <td>1</td>\n",
       "      <td>0</td>\n",
       "      <td>0</td>\n",
       "      <td>0</td>\n",
       "      <td>0</td>\n",
       "      <td>0</td>\n",
       "      <td>0</td>\n",
       "      <td>1</td>\n",
       "      <td>0</td>\n",
       "      <td>0</td>\n",
       "    </tr>\n",
       "    <tr>\n",
       "      <th>197982</th>\n",
       "      <td>26</td>\n",
       "      <td>2</td>\n",
       "      <td>2</td>\n",
       "      <td>3.0</td>\n",
       "      <td>14.0</td>\n",
       "      <td>1</td>\n",
       "      <td>2</td>\n",
       "      <td>3</td>\n",
       "      <td>6</td>\n",
       "      <td>7210</td>\n",
       "      <td>...</td>\n",
       "      <td>0</td>\n",
       "      <td>0</td>\n",
       "      <td>0</td>\n",
       "      <td>0</td>\n",
       "      <td>0</td>\n",
       "      <td>0</td>\n",
       "      <td>0</td>\n",
       "      <td>1</td>\n",
       "      <td>0</td>\n",
       "      <td>0</td>\n",
       "    </tr>\n",
       "    <tr>\n",
       "      <th>280389</th>\n",
       "      <td>18</td>\n",
       "      <td>13</td>\n",
       "      <td>4</td>\n",
       "      <td>2.0</td>\n",
       "      <td>8.0</td>\n",
       "      <td>2</td>\n",
       "      <td>2</td>\n",
       "      <td>2</td>\n",
       "      <td>4</td>\n",
       "      <td>3178</td>\n",
       "      <td>...</td>\n",
       "      <td>1</td>\n",
       "      <td>0</td>\n",
       "      <td>0</td>\n",
       "      <td>0</td>\n",
       "      <td>0</td>\n",
       "      <td>1</td>\n",
       "      <td>0</td>\n",
       "      <td>0</td>\n",
       "      <td>0</td>\n",
       "      <td>0</td>\n",
       "    </tr>\n",
       "  </tbody>\n",
       "</table>\n",
       "<p>5 rows × 38 columns</p>\n",
       "</div>"
      ],
      "text/plain": [
       "        Hospital_code  City_Code_Hospital  Available_Extra_Rooms_in_Hospital  \\\n",
       "231676             19                   7                                  4   \n",
       "166821             19                   7                                  2   \n",
       "70566              26                   2                                  2   \n",
       "197982             26                   2                                  2   \n",
       "280389             18                  13                                  4   \n",
       "\n",
       "        Bed_Grade  City_Code_Patient  Type_of_Admission  Severity_of_Illness  \\\n",
       "231676        2.0                8.0                  3                    2   \n",
       "166821        1.0                2.0                  3                    2   \n",
       "70566         3.0                7.0                  3                    3   \n",
       "197982        3.0               14.0                  1                    2   \n",
       "280389        2.0                8.0                  2                    2   \n",
       "\n",
       "        Visitors_with_Patient  Age  Admission_Deposit  ...  R  S  T  U  A  B  \\\n",
       "231676                      4    4               6247  ...  0  0  0  0  0  0   \n",
       "166821                      6    6               8000  ...  0  1  0  0  0  0   \n",
       "70566                       3    2               4987  ...  1  0  0  0  0  0   \n",
       "197982                      3    6               7210  ...  0  0  0  0  0  0   \n",
       "280389                      2    4               3178  ...  1  0  0  0  0  1   \n",
       "\n",
       "        C  D  E  F  \n",
       "231676  1  0  0  0  \n",
       "166821  1  0  0  0  \n",
       "70566   0  1  0  0  \n",
       "197982  0  1  0  0  \n",
       "280389  0  0  0  0  \n",
       "\n",
       "[5 rows x 38 columns]"
      ]
     },
     "execution_count": 67,
     "metadata": {},
     "output_type": "execute_result"
    }
   ],
   "source": [
    "train = onehot_encode(train, onehot_columns)\n",
    "train.head()"
   ]
  },
  {
   "cell_type": "code",
   "execution_count": 68,
   "id": "c1ff9c16",
   "metadata": {
    "scrolled": true
   },
   "outputs": [
    {
     "data": {
      "text/plain": [
       "{}"
      ]
     },
     "execution_count": 68,
     "metadata": {},
     "output_type": "execute_result"
    }
   ],
   "source": [
    "categorical_uniques_train = get_categorical_uniques(train)\n",
    "get_categorical_uniques(train)"
   ]
  },
  {
   "cell_type": "markdown",
   "id": "830059c1",
   "metadata": {},
   "source": [
    "1. All the features are now converted into numeric type.\n",
    "2. As this a **classification** problem where we'll be using either Decision Trees, Ensemble techniques or SVM, there's no need for **scaling** the data. \n",
    "3. Also there's no need for removing **outliers** since there's no impact of outliers for these algorithms."
   ]
  },
  {
   "cell_type": "markdown",
   "id": "2da48a59",
   "metadata": {},
   "source": [
    "# Test data preprocessing\n",
    "* Applying the same transformations to test data as applied to train data"
   ]
  },
  {
   "cell_type": "code",
   "execution_count": 69,
   "id": "f2af6252",
   "metadata": {
    "scrolled": true
   },
   "outputs": [
    {
     "data": {
      "text/html": [
       "<div>\n",
       "<style scoped>\n",
       "    .dataframe tbody tr th:only-of-type {\n",
       "        vertical-align: middle;\n",
       "    }\n",
       "\n",
       "    .dataframe tbody tr th {\n",
       "        vertical-align: top;\n",
       "    }\n",
       "\n",
       "    .dataframe thead th {\n",
       "        text-align: right;\n",
       "    }\n",
       "</style>\n",
       "<table border=\"1\" class=\"dataframe\">\n",
       "  <thead>\n",
       "    <tr style=\"text-align: right;\">\n",
       "      <th></th>\n",
       "      <th>Hospital_code</th>\n",
       "      <th>Hospital_type_code</th>\n",
       "      <th>City_Code_Hospital</th>\n",
       "      <th>Hospital_region_code</th>\n",
       "      <th>Available_Extra_Rooms_in_Hospital</th>\n",
       "      <th>Department</th>\n",
       "      <th>Ward_Type</th>\n",
       "      <th>Ward_Facility_Code</th>\n",
       "      <th>Bed_Grade</th>\n",
       "      <th>City_Code_Patient</th>\n",
       "      <th>Type_of_Admission</th>\n",
       "      <th>Severity_of_Illness</th>\n",
       "      <th>Visitors_with_Patient</th>\n",
       "      <th>Age</th>\n",
       "      <th>Admission_Deposit</th>\n",
       "      <th>Stay</th>\n",
       "    </tr>\n",
       "  </thead>\n",
       "  <tbody>\n",
       "    <tr>\n",
       "      <th>245328</th>\n",
       "      <td>8</td>\n",
       "      <td>c</td>\n",
       "      <td>3</td>\n",
       "      <td>Z</td>\n",
       "      <td>4</td>\n",
       "      <td>gynecology</td>\n",
       "      <td>Q</td>\n",
       "      <td>F</td>\n",
       "      <td>4.0</td>\n",
       "      <td>6.0</td>\n",
       "      <td>Trauma</td>\n",
       "      <td>Minor</td>\n",
       "      <td>4</td>\n",
       "      <td>41-50</td>\n",
       "      <td>4185</td>\n",
       "      <td>51-60</td>\n",
       "    </tr>\n",
       "    <tr>\n",
       "      <th>239123</th>\n",
       "      <td>5</td>\n",
       "      <td>a</td>\n",
       "      <td>1</td>\n",
       "      <td>X</td>\n",
       "      <td>6</td>\n",
       "      <td>TB &amp; Chest disease</td>\n",
       "      <td>Q</td>\n",
       "      <td>E</td>\n",
       "      <td>3.0</td>\n",
       "      <td>8.0</td>\n",
       "      <td>Trauma</td>\n",
       "      <td>Extreme</td>\n",
       "      <td>6</td>\n",
       "      <td>41-50</td>\n",
       "      <td>4507</td>\n",
       "      <td>51-60</td>\n",
       "    </tr>\n",
       "    <tr>\n",
       "      <th>280646</th>\n",
       "      <td>29</td>\n",
       "      <td>a</td>\n",
       "      <td>4</td>\n",
       "      <td>X</td>\n",
       "      <td>3</td>\n",
       "      <td>gynecology</td>\n",
       "      <td>R</td>\n",
       "      <td>F</td>\n",
       "      <td>2.0</td>\n",
       "      <td>16.0</td>\n",
       "      <td>Trauma</td>\n",
       "      <td>Moderate</td>\n",
       "      <td>2</td>\n",
       "      <td>41-50</td>\n",
       "      <td>6971</td>\n",
       "      <td>21-30</td>\n",
       "    </tr>\n",
       "    <tr>\n",
       "      <th>89025</th>\n",
       "      <td>9</td>\n",
       "      <td>d</td>\n",
       "      <td>5</td>\n",
       "      <td>Z</td>\n",
       "      <td>2</td>\n",
       "      <td>gynecology</td>\n",
       "      <td>S</td>\n",
       "      <td>F</td>\n",
       "      <td>4.0</td>\n",
       "      <td>9.0</td>\n",
       "      <td>Trauma</td>\n",
       "      <td>Moderate</td>\n",
       "      <td>2</td>\n",
       "      <td>51-60</td>\n",
       "      <td>4795</td>\n",
       "      <td>21-30</td>\n",
       "    </tr>\n",
       "    <tr>\n",
       "      <th>517</th>\n",
       "      <td>26</td>\n",
       "      <td>b</td>\n",
       "      <td>2</td>\n",
       "      <td>Y</td>\n",
       "      <td>4</td>\n",
       "      <td>gynecology</td>\n",
       "      <td>Q</td>\n",
       "      <td>D</td>\n",
       "      <td>2.0</td>\n",
       "      <td>15.0</td>\n",
       "      <td>Trauma</td>\n",
       "      <td>Extreme</td>\n",
       "      <td>4</td>\n",
       "      <td>71-80</td>\n",
       "      <td>4806</td>\n",
       "      <td>31-40</td>\n",
       "    </tr>\n",
       "  </tbody>\n",
       "</table>\n",
       "</div>"
      ],
      "text/plain": [
       "        Hospital_code Hospital_type_code  City_Code_Hospital  \\\n",
       "245328              8                  c                   3   \n",
       "239123              5                  a                   1   \n",
       "280646             29                  a                   4   \n",
       "89025               9                  d                   5   \n",
       "517                26                  b                   2   \n",
       "\n",
       "       Hospital_region_code  Available_Extra_Rooms_in_Hospital  \\\n",
       "245328                    Z                                  4   \n",
       "239123                    X                                  6   \n",
       "280646                    X                                  3   \n",
       "89025                     Z                                  2   \n",
       "517                       Y                                  4   \n",
       "\n",
       "                Department Ward_Type Ward_Facility_Code  Bed_Grade  \\\n",
       "245328          gynecology         Q                  F        4.0   \n",
       "239123  TB & Chest disease         Q                  E        3.0   \n",
       "280646          gynecology         R                  F        2.0   \n",
       "89025           gynecology         S                  F        4.0   \n",
       "517             gynecology         Q                  D        2.0   \n",
       "\n",
       "        City_Code_Patient Type_of_Admission Severity_of_Illness  \\\n",
       "245328                6.0            Trauma               Minor   \n",
       "239123                8.0            Trauma             Extreme   \n",
       "280646               16.0            Trauma            Moderate   \n",
       "89025                 9.0            Trauma            Moderate   \n",
       "517                  15.0            Trauma             Extreme   \n",
       "\n",
       "        Visitors_with_Patient    Age  Admission_Deposit   Stay  \n",
       "245328                      4  41-50               4185  51-60  \n",
       "239123                      6  41-50               4507  51-60  \n",
       "280646                      2  41-50               6971  21-30  \n",
       "89025                       2  51-60               4795  21-30  \n",
       "517                         4  71-80               4806  31-40  "
      ]
     },
     "execution_count": 69,
     "metadata": {},
     "output_type": "execute_result"
    }
   ],
   "source": [
    "test.head()"
   ]
  },
  {
   "cell_type": "code",
   "execution_count": 70,
   "id": "89e70b65",
   "metadata": {
    "scrolled": false
   },
   "outputs": [
    {
     "name": "stdout",
     "output_type": "stream",
     "text": [
      "categorical features\n",
      "---------------------------------------------------------------------------\n",
      "{'Hospital_type_code': array(['c', 'a', 'd', 'b', 'e', 'g', 'f'], dtype=object), 'Hospital_region_code': array(['Z', 'X', 'Y'], dtype=object), 'Department': array(['gynecology', 'TB & Chest disease', 'anesthesia', 'radiotherapy',\n",
      "       'surgery'], dtype=object), 'Ward_Type': array(['Q', 'R', 'S', 'P', 'T', 'U'], dtype=object), 'Ward_Facility_Code': array(['F', 'E', 'D', 'B', 'C', 'A'], dtype=object), 'Type_of_Admission': array(['Trauma', 'Urgent', 'Emergency'], dtype=object), 'Severity_of_Illness': array(['Minor', 'Extreme', 'Moderate'], dtype=object), 'Age': array(['41-50', '51-60', '71-80', '0-10', '21-30', '61-70', 'Nov-20',\n",
      "       '31-40', '81-90', '91-100'], dtype=object), 'Stay': array(['51-60', '21-30', '31-40', 'More than 100 Days', 'Nov-20', '0-10',\n",
      "       '41-50', '71-80', '81-90', '91-100', '61-70'], dtype=object)}\n",
      "\n",
      "\n",
      "Age uniques after processing\n",
      "---------------------------------------------------------------------------\n",
      "['41-50' '51-60' '71-80' '0-10' '21-30' '61-70' '11-20' '31-40' '81-90'\n",
      " '91-100']\n",
      "\n",
      "\n",
      "Stay uniques after processing\n",
      "---------------------------------------------------------------------------\n",
      "['51-60' '21-30' '31-40' 'More than 100 Days' '11-20' '0-10' '41-50'\n",
      " '71-80' '81-90' '91-100' '61-70']\n",
      "\n",
      "\n",
      "converting categories of Stay column into ordered numeric type\n",
      "---------------------------------------------------------------------------\n",
      "Stay {'0-10': 0, '11-20': 1, '21-30': 2, '31-40': 3, '41-50': 4, '51-60': 5, '61-70': 6, '71-80': 7, '81-90': 8, '91-100': 9, 'More than 100 Days': 10}\n",
      "\n",
      "\n",
      "converting categories of Age column into ordered numeric type\n",
      "---------------------------------------------------------------------------\n",
      "Age {'0-10': 0, '11-20': 1, '21-30': 2, '31-40': 3, '41-50': 4, '51-60': 5, '61-70': 6, '71-80': 7, '81-90': 8, '91-100': 9}\n",
      "\n",
      "\n",
      "Null values before\n",
      "---------------------------------------------------------------------------\n",
      "Hospital_code                          0\n",
      "Hospital_type_code                     0\n",
      "City_Code_Hospital                     0\n",
      "Hospital_region_code                   0\n",
      "Available_Extra_Rooms_in_Hospital      0\n",
      "Department                             0\n",
      "Ward_Type                              0\n",
      "Ward_Facility_Code                     0\n",
      "Bed_Grade                             19\n",
      "City_Code_Patient                    878\n",
      "Type_of_Admission                      0\n",
      "Severity_of_Illness                    0\n",
      "Visitors_with_Patient                  0\n",
      "Age                                    0\n",
      "Admission_Deposit                      0\n",
      "Stay                                   0\n",
      "dtype: int64\n",
      "\n",
      "\n",
      "Null values after median imputation\n",
      "---------------------------------------------------------------------------\n",
      "Hospital_code                        0\n",
      "Hospital_type_code                   0\n",
      "City_Code_Hospital                   0\n",
      "Hospital_region_code                 0\n",
      "Available_Extra_Rooms_in_Hospital    0\n",
      "Department                           0\n",
      "Ward_Type                            0\n",
      "Ward_Facility_Code                   0\n",
      "Bed_Grade                            0\n",
      "City_Code_Patient                    0\n",
      "Type_of_Admission                    0\n",
      "Severity_of_Illness                  0\n",
      "Visitors_with_Patient                0\n",
      "Age                                  0\n",
      "Admission_Deposit                    0\n",
      "Stay                                 0\n",
      "dtype: int64\n",
      "\n",
      "\n",
      "\n"
     ]
    },
    {
     "data": {
      "text/html": [
       "<div>\n",
       "<style scoped>\n",
       "    .dataframe tbody tr th:only-of-type {\n",
       "        vertical-align: middle;\n",
       "    }\n",
       "\n",
       "    .dataframe tbody tr th {\n",
       "        vertical-align: top;\n",
       "    }\n",
       "\n",
       "    .dataframe thead th {\n",
       "        text-align: right;\n",
       "    }\n",
       "</style>\n",
       "<table border=\"1\" class=\"dataframe\">\n",
       "  <thead>\n",
       "    <tr style=\"text-align: right;\">\n",
       "      <th></th>\n",
       "      <th>Hospital_code</th>\n",
       "      <th>City_Code_Hospital</th>\n",
       "      <th>Available_Extra_Rooms_in_Hospital</th>\n",
       "      <th>Bed_Grade</th>\n",
       "      <th>City_Code_Patient</th>\n",
       "      <th>Type_of_Admission</th>\n",
       "      <th>Severity_of_Illness</th>\n",
       "      <th>Visitors_with_Patient</th>\n",
       "      <th>Age</th>\n",
       "      <th>Admission_Deposit</th>\n",
       "      <th>...</th>\n",
       "      <th>R</th>\n",
       "      <th>S</th>\n",
       "      <th>T</th>\n",
       "      <th>U</th>\n",
       "      <th>A</th>\n",
       "      <th>B</th>\n",
       "      <th>C</th>\n",
       "      <th>D</th>\n",
       "      <th>E</th>\n",
       "      <th>F</th>\n",
       "    </tr>\n",
       "  </thead>\n",
       "  <tbody>\n",
       "    <tr>\n",
       "      <th>245328</th>\n",
       "      <td>8</td>\n",
       "      <td>3</td>\n",
       "      <td>4</td>\n",
       "      <td>4.0</td>\n",
       "      <td>6.0</td>\n",
       "      <td>1</td>\n",
       "      <td>1</td>\n",
       "      <td>4</td>\n",
       "      <td>4</td>\n",
       "      <td>4185</td>\n",
       "      <td>...</td>\n",
       "      <td>0</td>\n",
       "      <td>0</td>\n",
       "      <td>0</td>\n",
       "      <td>0</td>\n",
       "      <td>0</td>\n",
       "      <td>0</td>\n",
       "      <td>0</td>\n",
       "      <td>0</td>\n",
       "      <td>0</td>\n",
       "      <td>1</td>\n",
       "    </tr>\n",
       "    <tr>\n",
       "      <th>239123</th>\n",
       "      <td>5</td>\n",
       "      <td>1</td>\n",
       "      <td>6</td>\n",
       "      <td>3.0</td>\n",
       "      <td>8.0</td>\n",
       "      <td>1</td>\n",
       "      <td>3</td>\n",
       "      <td>6</td>\n",
       "      <td>4</td>\n",
       "      <td>4507</td>\n",
       "      <td>...</td>\n",
       "      <td>0</td>\n",
       "      <td>0</td>\n",
       "      <td>0</td>\n",
       "      <td>0</td>\n",
       "      <td>0</td>\n",
       "      <td>0</td>\n",
       "      <td>0</td>\n",
       "      <td>0</td>\n",
       "      <td>1</td>\n",
       "      <td>0</td>\n",
       "    </tr>\n",
       "    <tr>\n",
       "      <th>280646</th>\n",
       "      <td>29</td>\n",
       "      <td>4</td>\n",
       "      <td>3</td>\n",
       "      <td>2.0</td>\n",
       "      <td>16.0</td>\n",
       "      <td>1</td>\n",
       "      <td>2</td>\n",
       "      <td>2</td>\n",
       "      <td>4</td>\n",
       "      <td>6971</td>\n",
       "      <td>...</td>\n",
       "      <td>1</td>\n",
       "      <td>0</td>\n",
       "      <td>0</td>\n",
       "      <td>0</td>\n",
       "      <td>0</td>\n",
       "      <td>0</td>\n",
       "      <td>0</td>\n",
       "      <td>0</td>\n",
       "      <td>0</td>\n",
       "      <td>1</td>\n",
       "    </tr>\n",
       "    <tr>\n",
       "      <th>89025</th>\n",
       "      <td>9</td>\n",
       "      <td>5</td>\n",
       "      <td>2</td>\n",
       "      <td>4.0</td>\n",
       "      <td>9.0</td>\n",
       "      <td>1</td>\n",
       "      <td>2</td>\n",
       "      <td>2</td>\n",
       "      <td>5</td>\n",
       "      <td>4795</td>\n",
       "      <td>...</td>\n",
       "      <td>0</td>\n",
       "      <td>1</td>\n",
       "      <td>0</td>\n",
       "      <td>0</td>\n",
       "      <td>0</td>\n",
       "      <td>0</td>\n",
       "      <td>0</td>\n",
       "      <td>0</td>\n",
       "      <td>0</td>\n",
       "      <td>1</td>\n",
       "    </tr>\n",
       "    <tr>\n",
       "      <th>517</th>\n",
       "      <td>26</td>\n",
       "      <td>2</td>\n",
       "      <td>4</td>\n",
       "      <td>2.0</td>\n",
       "      <td>15.0</td>\n",
       "      <td>1</td>\n",
       "      <td>3</td>\n",
       "      <td>4</td>\n",
       "      <td>7</td>\n",
       "      <td>4806</td>\n",
       "      <td>...</td>\n",
       "      <td>0</td>\n",
       "      <td>0</td>\n",
       "      <td>0</td>\n",
       "      <td>0</td>\n",
       "      <td>0</td>\n",
       "      <td>0</td>\n",
       "      <td>0</td>\n",
       "      <td>1</td>\n",
       "      <td>0</td>\n",
       "      <td>0</td>\n",
       "    </tr>\n",
       "  </tbody>\n",
       "</table>\n",
       "<p>5 rows × 38 columns</p>\n",
       "</div>"
      ],
      "text/plain": [
       "        Hospital_code  City_Code_Hospital  Available_Extra_Rooms_in_Hospital  \\\n",
       "245328              8                   3                                  4   \n",
       "239123              5                   1                                  6   \n",
       "280646             29                   4                                  3   \n",
       "89025               9                   5                                  2   \n",
       "517                26                   2                                  4   \n",
       "\n",
       "        Bed_Grade  City_Code_Patient  Type_of_Admission  Severity_of_Illness  \\\n",
       "245328        4.0                6.0                  1                    1   \n",
       "239123        3.0                8.0                  1                    3   \n",
       "280646        2.0               16.0                  1                    2   \n",
       "89025         4.0                9.0                  1                    2   \n",
       "517           2.0               15.0                  1                    3   \n",
       "\n",
       "        Visitors_with_Patient  Age  Admission_Deposit  ...  R  S  T  U  A  B  \\\n",
       "245328                      4    4               4185  ...  0  0  0  0  0  0   \n",
       "239123                      6    4               4507  ...  0  0  0  0  0  0   \n",
       "280646                      2    4               6971  ...  1  0  0  0  0  0   \n",
       "89025                       2    5               4795  ...  0  1  0  0  0  0   \n",
       "517                         4    7               4806  ...  0  0  0  0  0  0   \n",
       "\n",
       "        C  D  E  F  \n",
       "245328  0  0  0  1  \n",
       "239123  0  0  1  0  \n",
       "280646  0  0  0  1  \n",
       "89025   0  0  0  1  \n",
       "517     0  1  0  0  \n",
       "\n",
       "[5 rows x 38 columns]"
      ]
     },
     "execution_count": 70,
     "metadata": {},
     "output_type": "execute_result"
    }
   ],
   "source": [
    "## Test data preprocessing\n",
    "\n",
    "print('categorical features')\n",
    "print(\"-\"*75)\n",
    "def get_categorical_uniques(test):\n",
    "    categorical_columns = [column for column in test.dtypes.index if test.dtypes[column] == 'object'] \n",
    "    categorical_uniques = {column: test[column].unique() for column in categorical_columns}\n",
    "    \n",
    "    return categorical_uniques\n",
    "\n",
    "get_categorical_uniques(test)\n",
    "categorical_uniques_test = get_categorical_uniques(test)\n",
    "print(categorical_uniques_test)\n",
    "\n",
    "print()\n",
    "print()\n",
    "\n",
    "# The \"Age\" & \"Stay\" columns have a category with 'Nov-20' which is incorrect & should be replaced with '11-20'\n",
    "\n",
    "test[\"Age\"].replace('Nov-20','11-20',inplace=True)\n",
    "test[\"Stay\"].replace('Nov-20','11-20',inplace=True)\n",
    "    \n",
    "print('Age uniques after processing')\n",
    "print(\"-\"*75)\n",
    "print(test[\"Age\"].unique())\n",
    "\n",
    "print()\n",
    "print()\n",
    "\n",
    "print('Stay uniques after processing')\n",
    "print(\"-\"*75)\n",
    "print(test[\"Stay\"].unique())\n",
    "\n",
    "categorical_uniques_test = get_categorical_uniques(test)\n",
    "categorical_uniques_test\n",
    "\n",
    "print()\n",
    "print()\n",
    "\n",
    "# Sorting Stay categories\n",
    "categorical_uniques_test['Stay'] = sorted(categorical_uniques_test['Stay'])\n",
    "\n",
    "print('converting categories of Stay column into ordered numeric type')\n",
    "print(\"-\"*75)\n",
    "stay_mappings_test = {value: index for index, value in enumerate(categorical_uniques_test['Stay'])}\n",
    "test[\"Stay\"] = test[\"Stay\"].replace(stay_mappings_test)\n",
    "print('Stay', stay_mappings_test)\n",
    "\n",
    "print()\n",
    "print()\n",
    "\n",
    "# Sorting Age categories\n",
    "categorical_uniques_test['Age'] = sorted(categorical_uniques_test['Age'])\n",
    "\n",
    "print('converting categories of Age column into ordered numeric type')\n",
    "print(\"-\"*75)\n",
    "age_mapping_test = {value: index for index, value in enumerate(categorical_uniques_test['Age'])}\n",
    "test[\"Age\"] = test[\"Age\"].replace(age_mapping_test)\n",
    "print('Age', age_mapping_test)\n",
    "\n",
    "print()\n",
    "print()\n",
    "\n",
    "# converting categories of Type_of_Admission column into ordered numeric type\n",
    "type_adm_mapping_test = {\"Trauma\":1, \"Urgent\":2, \"Emergency\":3}\n",
    "test[\"Type_of_Admission\"] = test[\"Type_of_Admission\"].replace(type_adm_mapping_test)\n",
    "\n",
    "# converting categories of Severity_of_Illness column into ordered numeric type\n",
    "sev_ill_mapping_test = {\"Minor\":1, \"Moderate\":2, \"Extreme\":3}\n",
    "test[\"Severity_of_Illness\"] = test[\"Severity_of_Illness\"].replace(sev_ill_mapping_test)\n",
    "\n",
    "print('Null values before')\n",
    "print(\"-\"*75)\n",
    "print(test.isnull().sum())\n",
    "\n",
    "print()\n",
    "print()\n",
    "\n",
    "# filling missing values\n",
    "test['Bed_Grade']  = test['Bed_Grade'].fillna(test['Bed_Grade'].median())\n",
    "test['City_Code_Patient']  = test['City_Code_Patient'].fillna(test['City_Code_Patient'].median())\n",
    "\n",
    "print('Null values after median imputation')\n",
    "print(\"-\"*75)\n",
    "print(test.isnull().sum())\n",
    "\n",
    "print()\n",
    "print()\n",
    "\n",
    "# converting nominal categorical data to numeric type\n",
    "def onehot_encode(test,columns):\n",
    "    for column in columns:\n",
    "        dummies = pd.get_dummies(test[column])\n",
    "        test = pd.concat([test,dummies], axis=1)\n",
    "        test.drop(column, axis=1, inplace=True)\n",
    "    return test\n",
    "onehot_columns_test = ['Hospital_type_code','Hospital_region_code','Department','Ward_Type','Ward_Facility_Code']\n",
    "test = onehot_encode(test, onehot_columns_test)\n",
    "\n",
    "print()\n",
    "\n",
    "test.head()"
   ]
  },
  {
   "cell_type": "markdown",
   "id": "31e911e2",
   "metadata": {
    "scrolled": true
   },
   "source": [
    "# Feature Selection\n",
    "Finding out the best feature which will contribute and have good relation with target variable. Following are some of the feature selection methods,\n",
    "\n",
    "1. **Heatmap**\n",
    "2. **feature_importance_**\n",
    "3. **SelectKBest**\n",
    "\n",
    "Here, we will use feature_importance."
   ]
  },
  {
   "cell_type": "code",
   "execution_count": 71,
   "id": "3eed728c",
   "metadata": {},
   "outputs": [
    {
     "data": {
      "text/plain": [
       "(254750, 38)"
      ]
     },
     "execution_count": 71,
     "metadata": {},
     "output_type": "execute_result"
    }
   ],
   "source": [
    "train.shape"
   ]
  },
  {
   "cell_type": "code",
   "execution_count": 72,
   "id": "8ee8f5bd",
   "metadata": {},
   "outputs": [
    {
     "data": {
      "text/plain": [
       "(63688, 38)"
      ]
     },
     "execution_count": 72,
     "metadata": {},
     "output_type": "execute_result"
    }
   ],
   "source": [
    "test.shape"
   ]
  },
  {
   "cell_type": "code",
   "execution_count": 73,
   "id": "6d452810",
   "metadata": {},
   "outputs": [
    {
     "data": {
      "text/plain": [
       "(318438, 38)"
      ]
     },
     "execution_count": 73,
     "metadata": {},
     "output_type": "execute_result"
    }
   ],
   "source": [
    "entire_data = pd.concat([train, test], axis=0)\n",
    "entire_data.shape"
   ]
  },
  {
   "cell_type": "code",
   "execution_count": 74,
   "id": "8fc2c9ec",
   "metadata": {},
   "outputs": [],
   "source": [
    "df = entire_data.copy()"
   ]
  },
  {
   "cell_type": "code",
   "execution_count": 75,
   "id": "0edfcbeb",
   "metadata": {},
   "outputs": [
    {
     "data": {
      "text/plain": [
       "Index(['Hospital_code', 'City_Code_Hospital',\n",
       "       'Available_Extra_Rooms_in_Hospital', 'Bed_Grade', 'City_Code_Patient',\n",
       "       'Type_of_Admission', 'Severity_of_Illness', 'Visitors_with_Patient',\n",
       "       'Age', 'Admission_Deposit', 'Stay', 'a', 'b', 'c', 'd', 'e', 'f', 'g',\n",
       "       'X', 'Y', 'Z', 'TB & Chest disease', 'anesthesia', 'gynecology',\n",
       "       'radiotherapy', 'surgery', 'P', 'Q', 'R', 'S', 'T', 'U', 'A', 'B', 'C',\n",
       "       'D', 'E', 'F'],\n",
       "      dtype='object')"
      ]
     },
     "execution_count": 75,
     "metadata": {},
     "output_type": "execute_result"
    }
   ],
   "source": [
    "df.columns"
   ]
  },
  {
   "cell_type": "code",
   "execution_count": 76,
   "id": "73408677",
   "metadata": {},
   "outputs": [
    {
     "data": {
      "text/html": [
       "<div>\n",
       "<style scoped>\n",
       "    .dataframe tbody tr th:only-of-type {\n",
       "        vertical-align: middle;\n",
       "    }\n",
       "\n",
       "    .dataframe tbody tr th {\n",
       "        vertical-align: top;\n",
       "    }\n",
       "\n",
       "    .dataframe thead th {\n",
       "        text-align: right;\n",
       "    }\n",
       "</style>\n",
       "<table border=\"1\" class=\"dataframe\">\n",
       "  <thead>\n",
       "    <tr style=\"text-align: right;\">\n",
       "      <th></th>\n",
       "      <th>Hospital_code</th>\n",
       "      <th>City_Code_Hospital</th>\n",
       "      <th>Available_Extra_Rooms_in_Hospital</th>\n",
       "      <th>Bed_Grade</th>\n",
       "      <th>City_Code_Patient</th>\n",
       "      <th>Type_of_Admission</th>\n",
       "      <th>Severity_of_Illness</th>\n",
       "      <th>Visitors_with_Patient</th>\n",
       "      <th>Age</th>\n",
       "      <th>Admission_Deposit</th>\n",
       "      <th>...</th>\n",
       "      <th>R</th>\n",
       "      <th>S</th>\n",
       "      <th>T</th>\n",
       "      <th>U</th>\n",
       "      <th>A</th>\n",
       "      <th>B</th>\n",
       "      <th>C</th>\n",
       "      <th>D</th>\n",
       "      <th>E</th>\n",
       "      <th>F</th>\n",
       "    </tr>\n",
       "  </thead>\n",
       "  <tbody>\n",
       "    <tr>\n",
       "      <th>231676</th>\n",
       "      <td>19</td>\n",
       "      <td>7</td>\n",
       "      <td>4</td>\n",
       "      <td>2.0</td>\n",
       "      <td>8.0</td>\n",
       "      <td>3</td>\n",
       "      <td>2</td>\n",
       "      <td>4</td>\n",
       "      <td>4</td>\n",
       "      <td>6247</td>\n",
       "      <td>...</td>\n",
       "      <td>0</td>\n",
       "      <td>0</td>\n",
       "      <td>0</td>\n",
       "      <td>0</td>\n",
       "      <td>0</td>\n",
       "      <td>0</td>\n",
       "      <td>1</td>\n",
       "      <td>0</td>\n",
       "      <td>0</td>\n",
       "      <td>0</td>\n",
       "    </tr>\n",
       "    <tr>\n",
       "      <th>166821</th>\n",
       "      <td>19</td>\n",
       "      <td>7</td>\n",
       "      <td>2</td>\n",
       "      <td>1.0</td>\n",
       "      <td>2.0</td>\n",
       "      <td>3</td>\n",
       "      <td>2</td>\n",
       "      <td>6</td>\n",
       "      <td>6</td>\n",
       "      <td>8000</td>\n",
       "      <td>...</td>\n",
       "      <td>0</td>\n",
       "      <td>1</td>\n",
       "      <td>0</td>\n",
       "      <td>0</td>\n",
       "      <td>0</td>\n",
       "      <td>0</td>\n",
       "      <td>1</td>\n",
       "      <td>0</td>\n",
       "      <td>0</td>\n",
       "      <td>0</td>\n",
       "    </tr>\n",
       "    <tr>\n",
       "      <th>70566</th>\n",
       "      <td>26</td>\n",
       "      <td>2</td>\n",
       "      <td>2</td>\n",
       "      <td>3.0</td>\n",
       "      <td>7.0</td>\n",
       "      <td>3</td>\n",
       "      <td>3</td>\n",
       "      <td>3</td>\n",
       "      <td>2</td>\n",
       "      <td>4987</td>\n",
       "      <td>...</td>\n",
       "      <td>1</td>\n",
       "      <td>0</td>\n",
       "      <td>0</td>\n",
       "      <td>0</td>\n",
       "      <td>0</td>\n",
       "      <td>0</td>\n",
       "      <td>0</td>\n",
       "      <td>1</td>\n",
       "      <td>0</td>\n",
       "      <td>0</td>\n",
       "    </tr>\n",
       "    <tr>\n",
       "      <th>197982</th>\n",
       "      <td>26</td>\n",
       "      <td>2</td>\n",
       "      <td>2</td>\n",
       "      <td>3.0</td>\n",
       "      <td>14.0</td>\n",
       "      <td>1</td>\n",
       "      <td>2</td>\n",
       "      <td>3</td>\n",
       "      <td>6</td>\n",
       "      <td>7210</td>\n",
       "      <td>...</td>\n",
       "      <td>0</td>\n",
       "      <td>0</td>\n",
       "      <td>0</td>\n",
       "      <td>0</td>\n",
       "      <td>0</td>\n",
       "      <td>0</td>\n",
       "      <td>0</td>\n",
       "      <td>1</td>\n",
       "      <td>0</td>\n",
       "      <td>0</td>\n",
       "    </tr>\n",
       "    <tr>\n",
       "      <th>280389</th>\n",
       "      <td>18</td>\n",
       "      <td>13</td>\n",
       "      <td>4</td>\n",
       "      <td>2.0</td>\n",
       "      <td>8.0</td>\n",
       "      <td>2</td>\n",
       "      <td>2</td>\n",
       "      <td>2</td>\n",
       "      <td>4</td>\n",
       "      <td>3178</td>\n",
       "      <td>...</td>\n",
       "      <td>1</td>\n",
       "      <td>0</td>\n",
       "      <td>0</td>\n",
       "      <td>0</td>\n",
       "      <td>0</td>\n",
       "      <td>1</td>\n",
       "      <td>0</td>\n",
       "      <td>0</td>\n",
       "      <td>0</td>\n",
       "      <td>0</td>\n",
       "    </tr>\n",
       "  </tbody>\n",
       "</table>\n",
       "<p>5 rows × 37 columns</p>\n",
       "</div>"
      ],
      "text/plain": [
       "        Hospital_code  City_Code_Hospital  Available_Extra_Rooms_in_Hospital  \\\n",
       "231676             19                   7                                  4   \n",
       "166821             19                   7                                  2   \n",
       "70566              26                   2                                  2   \n",
       "197982             26                   2                                  2   \n",
       "280389             18                  13                                  4   \n",
       "\n",
       "        Bed_Grade  City_Code_Patient  Type_of_Admission  Severity_of_Illness  \\\n",
       "231676        2.0                8.0                  3                    2   \n",
       "166821        1.0                2.0                  3                    2   \n",
       "70566         3.0                7.0                  3                    3   \n",
       "197982        3.0               14.0                  1                    2   \n",
       "280389        2.0                8.0                  2                    2   \n",
       "\n",
       "        Visitors_with_Patient  Age  Admission_Deposit  ...  R  S  T  U  A  B  \\\n",
       "231676                      4    4               6247  ...  0  0  0  0  0  0   \n",
       "166821                      6    6               8000  ...  0  1  0  0  0  0   \n",
       "70566                       3    2               4987  ...  1  0  0  0  0  0   \n",
       "197982                      3    6               7210  ...  0  0  0  0  0  0   \n",
       "280389                      2    4               3178  ...  1  0  0  0  0  1   \n",
       "\n",
       "        C  D  E  F  \n",
       "231676  1  0  0  0  \n",
       "166821  1  0  0  0  \n",
       "70566   0  1  0  0  \n",
       "197982  0  1  0  0  \n",
       "280389  0  0  0  0  \n",
       "\n",
       "[5 rows x 37 columns]"
      ]
     },
     "execution_count": 76,
     "metadata": {},
     "output_type": "execute_result"
    }
   ],
   "source": [
    "X = df.loc[:, ['Hospital_code', 'City_Code_Hospital',\n",
    "       'Available_Extra_Rooms_in_Hospital', 'Bed_Grade', 'City_Code_Patient',\n",
    "       'Type_of_Admission', 'Severity_of_Illness', 'Visitors_with_Patient',\n",
    "       'Age', 'Admission_Deposit', 'a', 'b', 'c', 'd', 'e', 'f', 'g',\n",
    "       'X', 'Y', 'Z', 'TB & Chest disease', 'anesthesia', 'gynecology',\n",
    "       'radiotherapy', 'surgery', 'P', 'Q', 'R', 'S', 'T', 'U', 'A', 'B', 'C',\n",
    "       'D', 'E', 'F']]\n",
    "X.head()"
   ]
  },
  {
   "cell_type": "code",
   "execution_count": 77,
   "id": "d4426db0",
   "metadata": {},
   "outputs": [
    {
     "data": {
      "text/html": [
       "<div>\n",
       "<style scoped>\n",
       "    .dataframe tbody tr th:only-of-type {\n",
       "        vertical-align: middle;\n",
       "    }\n",
       "\n",
       "    .dataframe tbody tr th {\n",
       "        vertical-align: top;\n",
       "    }\n",
       "\n",
       "    .dataframe thead th {\n",
       "        text-align: right;\n",
       "    }\n",
       "</style>\n",
       "<table border=\"1\" class=\"dataframe\">\n",
       "  <thead>\n",
       "    <tr style=\"text-align: right;\">\n",
       "      <th></th>\n",
       "      <th>Stay</th>\n",
       "    </tr>\n",
       "  </thead>\n",
       "  <tbody>\n",
       "    <tr>\n",
       "      <th>231676</th>\n",
       "      <td>2</td>\n",
       "    </tr>\n",
       "    <tr>\n",
       "      <th>166821</th>\n",
       "      <td>10</td>\n",
       "    </tr>\n",
       "    <tr>\n",
       "      <th>70566</th>\n",
       "      <td>1</td>\n",
       "    </tr>\n",
       "    <tr>\n",
       "      <th>197982</th>\n",
       "      <td>6</td>\n",
       "    </tr>\n",
       "    <tr>\n",
       "      <th>280389</th>\n",
       "      <td>5</td>\n",
       "    </tr>\n",
       "  </tbody>\n",
       "</table>\n",
       "</div>"
      ],
      "text/plain": [
       "        Stay\n",
       "231676     2\n",
       "166821    10\n",
       "70566      1\n",
       "197982     6\n",
       "280389     5"
      ]
     },
     "execution_count": 77,
     "metadata": {},
     "output_type": "execute_result"
    }
   ],
   "source": [
    "y = df.loc[:, ['Stay']]\n",
    "y.head()"
   ]
  },
  {
   "cell_type": "code",
   "execution_count": 78,
   "id": "a22e742b",
   "metadata": {},
   "outputs": [
    {
     "name": "stderr",
     "output_type": "stream",
     "text": [
      "C:\\Users\\apurv\\AppData\\Local\\Temp/ipykernel_10732/4269112720.py:5: DataConversionWarning: A column-vector y was passed when a 1d array was expected. Please change the shape of y to (n_samples,), for example using ravel().\n",
      "  selection.fit(X, y)\n"
     ]
    },
    {
     "data": {
      "text/plain": [
       "ExtraTreesClassifier()"
      ]
     },
     "execution_count": 78,
     "metadata": {},
     "output_type": "execute_result"
    }
   ],
   "source": [
    "# Important feature using ExtraTreesClassifier\n",
    "\n",
    "from sklearn.ensemble import ExtraTreesClassifier\n",
    "selection = ExtraTreesClassifier()\n",
    "selection.fit(X, y)"
   ]
  },
  {
   "cell_type": "code",
   "execution_count": 79,
   "id": "3fed586f",
   "metadata": {},
   "outputs": [
    {
     "name": "stdout",
     "output_type": "stream",
     "text": [
      "[2.39919357e-02 4.11849990e-03 9.04701154e-02 4.58404366e-02\n",
      " 1.49212225e-01 2.00621398e-02 2.57373354e-02 1.31383542e-01\n",
      " 1.36625040e-01 3.24123526e-01 1.90327434e-03 6.18646052e-04\n",
      " 8.55662566e-04 1.03154173e-03 7.06657152e-04 3.14823471e-04\n",
      " 3.36008254e-04 8.49093539e-04 8.05485986e-04 6.29180065e-04\n",
      " 3.57961038e-03 3.77117460e-03 6.55029307e-03 5.34891640e-03\n",
      " 8.92180154e-04 1.17093392e-03 4.12401025e-03 3.02360603e-03\n",
      " 5.97696609e-03 2.86034834e-04 8.17582452e-06 7.09959504e-04\n",
      " 4.74953246e-04 1.58633910e-03 6.79630408e-04 7.87944303e-04\n",
      " 1.41410170e-03]\n"
     ]
    }
   ],
   "source": [
    "print(selection.feature_importances_)"
   ]
  },
  {
   "cell_type": "code",
   "execution_count": 80,
   "id": "c986b9a0",
   "metadata": {},
   "outputs": [
    {
     "data": {
      "image/png": "[encoded data removed]",
      "text/plain": [
       "<Figure size 864x576 with 1 Axes>"
      ]
     },
     "metadata": {},
     "output_type": "display_data"
    }
   ],
   "source": [
    "# plot graph of feature importances for better visualization\n",
    "\n",
    "plt.figure(figsize = (12,8))\n",
    "feat_importances = pd.Series(selection.feature_importances_, index=X.columns)\n",
    "feat_importances.nlargest(20).plot(kind='barh')\n",
    "plt.show()"
   ]
  },
  {
   "cell_type": "code",
   "execution_count": 81,
   "id": "e6b5df10",
   "metadata": {},
   "outputs": [
    {
     "data": {
      "text/plain": [
       "Admission_Deposit                    0.324124\n",
       "City_Code_Patient                    0.149212\n",
       "Age                                  0.136625\n",
       "Visitors_with_Patient                0.131384\n",
       "Available_Extra_Rooms_in_Hospital    0.090470\n",
       "Bed_Grade                            0.045840\n",
       "Severity_of_Illness                  0.025737\n",
       "Hospital_code                        0.023992\n",
       "Type_of_Admission                    0.020062\n",
       "gynecology                           0.006550\n",
       "S                                    0.005977\n",
       "radiotherapy                         0.005349\n",
       "Q                                    0.004124\n",
       "City_Code_Hospital                   0.004118\n",
       "anesthesia                           0.003771\n",
       "TB & Chest disease                   0.003580\n",
       "R                                    0.003024\n",
       "a                                    0.001903\n",
       "C                                    0.001586\n",
       "F                                    0.001414\n",
       "dtype: float64"
      ]
     },
     "execution_count": 81,
     "metadata": {},
     "output_type": "execute_result"
    }
   ],
   "source": [
    "imp_features = feat_importances.nlargest(20)\n",
    "imp_features"
   ]
  },
  {
   "cell_type": "code",
   "execution_count": 82,
   "id": "ec2e1ccb",
   "metadata": {},
   "outputs": [
    {
     "data": {
      "text/plain": [
       "Index(['Admission_Deposit', 'City_Code_Patient', 'Age',\n",
       "       'Visitors_with_Patient', 'Available_Extra_Rooms_in_Hospital',\n",
       "       'Bed_Grade', 'Severity_of_Illness', 'Hospital_code',\n",
       "       'Type_of_Admission', 'gynecology', 'S', 'radiotherapy', 'Q',\n",
       "       'City_Code_Hospital', 'anesthesia', 'TB & Chest disease', 'R', 'a', 'C',\n",
       "       'F'],\n",
       "      dtype='object')"
      ]
     },
     "execution_count": 82,
     "metadata": {},
     "output_type": "execute_result"
    }
   ],
   "source": [
    "imp_features.index"
   ]
  },
  {
   "cell_type": "code",
   "execution_count": 83,
   "id": "0a506cea",
   "metadata": {},
   "outputs": [
    {
     "data": {
      "text/html": [
       "<div>\n",
       "<style scoped>\n",
       "    .dataframe tbody tr th:only-of-type {\n",
       "        vertical-align: middle;\n",
       "    }\n",
       "\n",
       "    .dataframe tbody tr th {\n",
       "        vertical-align: top;\n",
       "    }\n",
       "\n",
       "    .dataframe thead th {\n",
       "        text-align: right;\n",
       "    }\n",
       "</style>\n",
       "<table border=\"1\" class=\"dataframe\">\n",
       "  <thead>\n",
       "    <tr style=\"text-align: right;\">\n",
       "      <th></th>\n",
       "      <th>Admission_Deposit</th>\n",
       "      <th>City_Code_Patient</th>\n",
       "      <th>Age</th>\n",
       "      <th>Visitors_with_Patient</th>\n",
       "      <th>Available_Extra_Rooms_in_Hospital</th>\n",
       "      <th>Bed_Grade</th>\n",
       "      <th>Severity_of_Illness</th>\n",
       "      <th>Hospital_code</th>\n",
       "      <th>Type_of_Admission</th>\n",
       "      <th>gynecology</th>\n",
       "      <th>S</th>\n",
       "      <th>radiotherapy</th>\n",
       "      <th>Q</th>\n",
       "      <th>City_Code_Hospital</th>\n",
       "      <th>anesthesia</th>\n",
       "      <th>TB &amp; Chest disease</th>\n",
       "      <th>R</th>\n",
       "      <th>a</th>\n",
       "      <th>C</th>\n",
       "      <th>F</th>\n",
       "    </tr>\n",
       "  </thead>\n",
       "  <tbody>\n",
       "    <tr>\n",
       "      <th>231676</th>\n",
       "      <td>6247</td>\n",
       "      <td>8.0</td>\n",
       "      <td>4</td>\n",
       "      <td>4</td>\n",
       "      <td>4</td>\n",
       "      <td>2.0</td>\n",
       "      <td>2</td>\n",
       "      <td>19</td>\n",
       "      <td>3</td>\n",
       "      <td>1</td>\n",
       "      <td>0</td>\n",
       "      <td>0</td>\n",
       "      <td>1</td>\n",
       "      <td>7</td>\n",
       "      <td>0</td>\n",
       "      <td>0</td>\n",
       "      <td>0</td>\n",
       "      <td>1</td>\n",
       "      <td>1</td>\n",
       "      <td>0</td>\n",
       "    </tr>\n",
       "    <tr>\n",
       "      <th>166821</th>\n",
       "      <td>8000</td>\n",
       "      <td>2.0</td>\n",
       "      <td>6</td>\n",
       "      <td>6</td>\n",
       "      <td>2</td>\n",
       "      <td>1.0</td>\n",
       "      <td>2</td>\n",
       "      <td>19</td>\n",
       "      <td>3</td>\n",
       "      <td>0</td>\n",
       "      <td>1</td>\n",
       "      <td>1</td>\n",
       "      <td>0</td>\n",
       "      <td>7</td>\n",
       "      <td>0</td>\n",
       "      <td>0</td>\n",
       "      <td>0</td>\n",
       "      <td>1</td>\n",
       "      <td>1</td>\n",
       "      <td>0</td>\n",
       "    </tr>\n",
       "    <tr>\n",
       "      <th>70566</th>\n",
       "      <td>4987</td>\n",
       "      <td>7.0</td>\n",
       "      <td>2</td>\n",
       "      <td>3</td>\n",
       "      <td>2</td>\n",
       "      <td>3.0</td>\n",
       "      <td>3</td>\n",
       "      <td>26</td>\n",
       "      <td>3</td>\n",
       "      <td>0</td>\n",
       "      <td>0</td>\n",
       "      <td>1</td>\n",
       "      <td>0</td>\n",
       "      <td>2</td>\n",
       "      <td>0</td>\n",
       "      <td>0</td>\n",
       "      <td>1</td>\n",
       "      <td>0</td>\n",
       "      <td>0</td>\n",
       "      <td>0</td>\n",
       "    </tr>\n",
       "    <tr>\n",
       "      <th>197982</th>\n",
       "      <td>7210</td>\n",
       "      <td>14.0</td>\n",
       "      <td>6</td>\n",
       "      <td>3</td>\n",
       "      <td>2</td>\n",
       "      <td>3.0</td>\n",
       "      <td>2</td>\n",
       "      <td>26</td>\n",
       "      <td>1</td>\n",
       "      <td>1</td>\n",
       "      <td>0</td>\n",
       "      <td>0</td>\n",
       "      <td>1</td>\n",
       "      <td>2</td>\n",
       "      <td>0</td>\n",
       "      <td>0</td>\n",
       "      <td>0</td>\n",
       "      <td>0</td>\n",
       "      <td>0</td>\n",
       "      <td>0</td>\n",
       "    </tr>\n",
       "    <tr>\n",
       "      <th>280389</th>\n",
       "      <td>3178</td>\n",
       "      <td>8.0</td>\n",
       "      <td>4</td>\n",
       "      <td>2</td>\n",
       "      <td>4</td>\n",
       "      <td>2.0</td>\n",
       "      <td>2</td>\n",
       "      <td>18</td>\n",
       "      <td>2</td>\n",
       "      <td>0</td>\n",
       "      <td>0</td>\n",
       "      <td>1</td>\n",
       "      <td>0</td>\n",
       "      <td>13</td>\n",
       "      <td>0</td>\n",
       "      <td>0</td>\n",
       "      <td>1</td>\n",
       "      <td>0</td>\n",
       "      <td>0</td>\n",
       "      <td>0</td>\n",
       "    </tr>\n",
       "  </tbody>\n",
       "</table>\n",
       "</div>"
      ],
      "text/plain": [
       "        Admission_Deposit  City_Code_Patient  Age  Visitors_with_Patient  \\\n",
       "231676               6247                8.0    4                      4   \n",
       "166821               8000                2.0    6                      6   \n",
       "70566                4987                7.0    2                      3   \n",
       "197982               7210               14.0    6                      3   \n",
       "280389               3178                8.0    4                      2   \n",
       "\n",
       "        Available_Extra_Rooms_in_Hospital  Bed_Grade  Severity_of_Illness  \\\n",
       "231676                                  4        2.0                    2   \n",
       "166821                                  2        1.0                    2   \n",
       "70566                                   2        3.0                    3   \n",
       "197982                                  2        3.0                    2   \n",
       "280389                                  4        2.0                    2   \n",
       "\n",
       "        Hospital_code  Type_of_Admission  gynecology  S  radiotherapy  Q  \\\n",
       "231676             19                  3           1  0             0  1   \n",
       "166821             19                  3           0  1             1  0   \n",
       "70566              26                  3           0  0             1  0   \n",
       "197982             26                  1           1  0             0  1   \n",
       "280389             18                  2           0  0             1  0   \n",
       "\n",
       "        City_Code_Hospital  anesthesia  TB & Chest disease  R  a  C  F  \n",
       "231676                   7           0                   0  0  1  1  0  \n",
       "166821                   7           0                   0  0  1  1  0  \n",
       "70566                    2           0                   0  1  0  0  0  \n",
       "197982                   2           0                   0  0  0  0  0  \n",
       "280389                  13           0                   0  1  0  0  0  "
      ]
     },
     "execution_count": 83,
     "metadata": {},
     "output_type": "execute_result"
    }
   ],
   "source": [
    "# Selecting the features with higher feature importance (20 features out of 38)\n",
    "\n",
    "X = df.loc[:, ['Admission_Deposit', 'City_Code_Patient', 'Age',\n",
    "       'Visitors_with_Patient', 'Available_Extra_Rooms_in_Hospital',\n",
    "       'Bed_Grade', 'Severity_of_Illness', 'Hospital_code',\n",
    "       'Type_of_Admission', 'gynecology', 'S', 'radiotherapy', 'Q',\n",
    "       'City_Code_Hospital', 'anesthesia', 'TB & Chest disease', 'R', 'a', 'C',\n",
    "       'F']]\n",
    "X.head()"
   ]
  },
  {
   "cell_type": "code",
   "execution_count": 84,
   "id": "4beda4e2",
   "metadata": {},
   "outputs": [
    {
     "data": {
      "text/html": [
       "<div>\n",
       "<style scoped>\n",
       "    .dataframe tbody tr th:only-of-type {\n",
       "        vertical-align: middle;\n",
       "    }\n",
       "\n",
       "    .dataframe tbody tr th {\n",
       "        vertical-align: top;\n",
       "    }\n",
       "\n",
       "    .dataframe thead th {\n",
       "        text-align: right;\n",
       "    }\n",
       "</style>\n",
       "<table border=\"1\" class=\"dataframe\">\n",
       "  <thead>\n",
       "    <tr style=\"text-align: right;\">\n",
       "      <th></th>\n",
       "      <th>Stay</th>\n",
       "    </tr>\n",
       "  </thead>\n",
       "  <tbody>\n",
       "    <tr>\n",
       "      <th>231676</th>\n",
       "      <td>2</td>\n",
       "    </tr>\n",
       "    <tr>\n",
       "      <th>166821</th>\n",
       "      <td>10</td>\n",
       "    </tr>\n",
       "    <tr>\n",
       "      <th>70566</th>\n",
       "      <td>1</td>\n",
       "    </tr>\n",
       "    <tr>\n",
       "      <th>197982</th>\n",
       "      <td>6</td>\n",
       "    </tr>\n",
       "    <tr>\n",
       "      <th>280389</th>\n",
       "      <td>5</td>\n",
       "    </tr>\n",
       "  </tbody>\n",
       "</table>\n",
       "</div>"
      ],
      "text/plain": [
       "        Stay\n",
       "231676     2\n",
       "166821    10\n",
       "70566      1\n",
       "197982     6\n",
       "280389     5"
      ]
     },
     "execution_count": 84,
     "metadata": {},
     "output_type": "execute_result"
    }
   ],
   "source": [
    "y = df.loc[:, ['Stay']]\n",
    "y.head()"
   ]
  },
  {
   "cell_type": "markdown",
   "id": "6160c99c",
   "metadata": {},
   "source": [
    "## Model building"
   ]
  },
  {
   "cell_type": "code",
   "execution_count": 85,
   "id": "20d6c9a8",
   "metadata": {},
   "outputs": [],
   "source": [
    "from sklearn.model_selection import train_test_split\n",
    "X_train, X_test, y_train, y_test = train_test_split(X, y, test_size = 0.2, random_state = 42)"
   ]
  },
  {
   "cell_type": "code",
   "execution_count": 86,
   "id": "35d3fd39",
   "metadata": {},
   "outputs": [],
   "source": [
    "from sklearn.metrics import accuracy_score, confusion_matrix, classification_report, precision_score, recall_score, f1_score"
   ]
  },
  {
   "cell_type": "markdown",
   "id": "184bca42",
   "metadata": {},
   "source": [
    "### 1) Decision Tree"
   ]
  },
  {
   "cell_type": "code",
   "execution_count": 95,
   "id": "c192f2f2",
   "metadata": {},
   "outputs": [
    {
     "name": "stdout",
     "output_type": "stream",
     "text": [
      "Accuracy of Decision Tree:  0.3911725913829921\n",
      "F1 score: 0.35208301743395726\n",
      "Recall: 0.3911725913829921\n",
      "Precision: 0.3543838053570111\n"
     ]
    },
    {
     "name": "stderr",
     "output_type": "stream",
     "text": [
      "c:\\python 39\\lib\\site-packages\\sklearn\\metrics\\_classification.py:1308: UndefinedMetricWarning: Precision is ill-defined and being set to 0.0 in labels with no predicted samples. Use `zero_division` parameter to control this behavior.\n",
      "  _warn_prf(average, modifier, msg_start, len(result))\n"
     ]
    }
   ],
   "source": [
    "from sklearn.tree import DecisionTreeClassifier\n",
    "DT_model = DecisionTreeClassifier(max_depth=5, random_state=50)\n",
    "DT_model.fit(X_train, y_train)\n",
    "y_predict = DT_model.predict(X_test)\n",
    "print('Accuracy of Decision Tree: ', accuracy_score(y_test, y_predict))\n",
    "print('F1 score:', f1_score(y_test, y_predict, average='weighted'))\n",
    "print('Recall:', recall_score(y_test, y_predict, average='weighted'))\n",
    "print('Precision:', precision_score(y_test, y_predict, average='weighted'))\n",
    "\n",
    "# for multiclass problem, average='binary' needs to be changed to either of these ones: \"None\", \"micro\", \"macro\", \"weighted\""
   ]
  },
  {
   "cell_type": "code",
   "execution_count": 96,
   "id": "f2497262",
   "metadata": {},
   "outputs": [
    {
     "data": {
      "text/plain": [
       "array([[ 510, 2457, 1734,   33,    0,   55,    0,    0,    0,    0,    0],\n",
       "       [ 325, 9488, 4540,  536,    0,  770,    0,    0,    0,    0,    3],\n",
       "       [ 232, 7741, 8848,  220,    0,  527,    0,    0,    0,    0,   13],\n",
       "       [ 141, 3446, 3149, 2141,    0, 2123,    0,    0,    0,    0,   40],\n",
       "       [  53,  906, 1016,   91,    0,  218,    0,    0,    0,    0,   22],\n",
       "       [  51,  892,  825, 1590,    0, 3413,    0,    0,    0,    0,   85],\n",
       "       [   9,  155,  215,   28,    0,  117,    0,    0,    0,    0,   12],\n",
       "       [  20,  239,  174,  441,    0,  963,    0,    0,    0,    0,  213],\n",
       "       [   7,   50,   32,  106,    0,  677,    0,    0,    0,    0,   80],\n",
       "       [   8,   60,   54,  110,    0,  261,    0,    0,    0,    0,   88],\n",
       "       [  12,  103,   52,  118,    0,  537,    0,    0,    0,    0,  513]],\n",
       "      dtype=int64)"
      ]
     },
     "execution_count": 96,
     "metadata": {},
     "output_type": "execute_result"
    }
   ],
   "source": [
    "confusion_matrix(y_test,y_predict)"
   ]
  },
  {
   "cell_type": "code",
   "execution_count": 90,
   "id": "525f3c86",
   "metadata": {},
   "outputs": [
    {
     "name": "stdout",
     "output_type": "stream",
     "text": [
      "              precision    recall  f1-score   support\n",
      "\n",
      "           0       0.37      0.11      0.17      4789\n",
      "           1       0.37      0.61      0.46     15662\n",
      "           2       0.43      0.50      0.46     17581\n",
      "           3       0.40      0.19      0.26     11040\n",
      "           4       0.00      0.00      0.00      2306\n",
      "           5       0.35      0.50      0.41      6856\n",
      "           6       0.00      0.00      0.00       536\n",
      "           7       0.00      0.00      0.00      2050\n",
      "           8       0.00      0.00      0.00       952\n",
      "           9       0.00      0.00      0.00       581\n",
      "          10       0.48      0.38      0.43      1335\n",
      "\n",
      "    accuracy                           0.39     63688\n",
      "   macro avg       0.22      0.21      0.20     63688\n",
      "weighted avg       0.35      0.39      0.35     63688\n",
      "\n"
     ]
    },
    {
     "name": "stderr",
     "output_type": "stream",
     "text": [
      "c:\\python 39\\lib\\site-packages\\sklearn\\metrics\\_classification.py:1308: UndefinedMetricWarning: Precision and F-score are ill-defined and being set to 0.0 in labels with no predicted samples. Use `zero_division` parameter to control this behavior.\n",
      "  _warn_prf(average, modifier, msg_start, len(result))\n",
      "c:\\python 39\\lib\\site-packages\\sklearn\\metrics\\_classification.py:1308: UndefinedMetricWarning: Precision and F-score are ill-defined and being set to 0.0 in labels with no predicted samples. Use `zero_division` parameter to control this behavior.\n",
      "  _warn_prf(average, modifier, msg_start, len(result))\n",
      "c:\\python 39\\lib\\site-packages\\sklearn\\metrics\\_classification.py:1308: UndefinedMetricWarning: Precision and F-score are ill-defined and being set to 0.0 in labels with no predicted samples. Use `zero_division` parameter to control this behavior.\n",
      "  _warn_prf(average, modifier, msg_start, len(result))\n"
     ]
    }
   ],
   "source": [
    "print(classification_report(y_test,y_predict))"
   ]
  },
  {
   "cell_type": "markdown",
   "id": "b5f08f1c",
   "metadata": {},
   "source": [
    "### 2) Random Forest"
   ]
  },
  {
   "cell_type": "code",
   "execution_count": 91,
   "id": "adb60c12",
   "metadata": {},
   "outputs": [
    {
     "name": "stderr",
     "output_type": "stream",
     "text": [
      "C:\\Users\\apurv\\AppData\\Local\\Temp/ipykernel_10732/1586014708.py:3: DataConversionWarning: A column-vector y was passed when a 1d array was expected. Please change the shape of y to (n_samples,), for example using ravel().\n",
      "  RF_model.fit(X_train, y_train)\n"
     ]
    },
    {
     "name": "stdout",
     "output_type": "stream",
     "text": [
      "Accuracy of Random Forest:  0.38126491646778043\n",
      "F1 score: 0.32533096586395915\n",
      "Recall: 0.38126491646778043\n",
      "Precision: 0.30566389693977114\n"
     ]
    },
    {
     "name": "stderr",
     "output_type": "stream",
     "text": [
      "c:\\python 39\\lib\\site-packages\\sklearn\\metrics\\_classification.py:1308: UndefinedMetricWarning: Precision is ill-defined and being set to 0.0 in labels with no predicted samples. Use `zero_division` parameter to control this behavior.\n",
      "  _warn_prf(average, modifier, msg_start, len(result))\n"
     ]
    }
   ],
   "source": [
    "from sklearn.ensemble import RandomForestClassifier\n",
    "RF_model = RandomForestClassifier(n_estimators=100, max_depth=5, n_jobs=1)\n",
    "RF_model.fit(X_train, y_train)\n",
    "y_predict = RF_model.predict(X_test)\n",
    "print('Accuracy of Random Forest: ', accuracy_score(y_test, y_predict))\n",
    "print('F1 score:', f1_score(y_test, y_predict, average='weighted'))\n",
    "print('Recall:', recall_score(y_test, y_predict, average='weighted'))\n",
    "print('Precision:', precision_score(y_test, y_predict, average='weighted'))"
   ]
  },
  {
   "cell_type": "code",
   "execution_count": 92,
   "id": "d8619f2c",
   "metadata": {},
   "outputs": [
    {
     "data": {
      "text/plain": [
       "array([[    0,  2140,  2596,    31,     0,    22,     0,     0,     0,\n",
       "            0,     0],\n",
       "       [    0,  6390,  8115,   595,     0,   562,     0,     0,     0,\n",
       "            0,     0],\n",
       "       [    0,  4473, 12528,   224,     0,   356,     0,     0,     0,\n",
       "            0,     0],\n",
       "       [    0,  2106,  4864,  2338,     0,  1732,     0,     0,     0,\n",
       "            0,     0],\n",
       "       [    0,   500,  1508,   115,     0,   183,     0,     0,     0,\n",
       "            0,     0],\n",
       "       [    0,   630,  1437,  1763,     0,  3026,     0,     0,     0,\n",
       "            0,     0],\n",
       "       [    0,    76,   313,    41,     0,   106,     0,     0,     0,\n",
       "            0,     0],\n",
       "       [    0,   168,   339,   496,     0,  1047,     0,     0,     0,\n",
       "            0,     0],\n",
       "       [    0,    39,    56,   165,     0,   692,     0,     0,     0,\n",
       "            0,     0],\n",
       "       [    0,    30,   114,   113,     0,   324,     0,     0,     0,\n",
       "            0,     0],\n",
       "       [    0,    69,   112,   177,     0,   977,     0,     0,     0,\n",
       "            0,     0]], dtype=int64)"
      ]
     },
     "execution_count": 92,
     "metadata": {},
     "output_type": "execute_result"
    }
   ],
   "source": [
    "confusion_matrix(y_test,y_predict)"
   ]
  },
  {
   "cell_type": "code",
   "execution_count": 93,
   "id": "cf4db1e2",
   "metadata": {},
   "outputs": [
    {
     "name": "stdout",
     "output_type": "stream",
     "text": [
      "              precision    recall  f1-score   support\n",
      "\n",
      "           0       0.00      0.00      0.00      4789\n",
      "           1       0.38      0.41      0.40     15662\n",
      "           2       0.39      0.71      0.51     17581\n",
      "           3       0.39      0.21      0.27     11040\n",
      "           4       0.00      0.00      0.00      2306\n",
      "           5       0.34      0.44      0.38      6856\n",
      "           6       0.00      0.00      0.00       536\n",
      "           7       0.00      0.00      0.00      2050\n",
      "           8       0.00      0.00      0.00       952\n",
      "           9       0.00      0.00      0.00       581\n",
      "          10       0.00      0.00      0.00      1335\n",
      "\n",
      "    accuracy                           0.38     63688\n",
      "   macro avg       0.14      0.16      0.14     63688\n",
      "weighted avg       0.31      0.38      0.33     63688\n",
      "\n"
     ]
    },
    {
     "name": "stderr",
     "output_type": "stream",
     "text": [
      "c:\\python 39\\lib\\site-packages\\sklearn\\metrics\\_classification.py:1308: UndefinedMetricWarning: Precision and F-score are ill-defined and being set to 0.0 in labels with no predicted samples. Use `zero_division` parameter to control this behavior.\n",
      "  _warn_prf(average, modifier, msg_start, len(result))\n",
      "c:\\python 39\\lib\\site-packages\\sklearn\\metrics\\_classification.py:1308: UndefinedMetricWarning: Precision and F-score are ill-defined and being set to 0.0 in labels with no predicted samples. Use `zero_division` parameter to control this behavior.\n",
      "  _warn_prf(average, modifier, msg_start, len(result))\n",
      "c:\\python 39\\lib\\site-packages\\sklearn\\metrics\\_classification.py:1308: UndefinedMetricWarning: Precision and F-score are ill-defined and being set to 0.0 in labels with no predicted samples. Use `zero_division` parameter to control this behavior.\n",
      "  _warn_prf(average, modifier, msg_start, len(result))\n"
     ]
    }
   ],
   "source": [
    "print(classification_report(y_test,y_predict))"
   ]
  },
  {
   "cell_type": "markdown",
   "id": "0465ed8a",
   "metadata": {},
   "source": [
    "### 3) XGBoost Classifier"
   ]
  },
  {
   "cell_type": "code",
   "execution_count": 94,
   "id": "27b54e1c",
   "metadata": {},
   "outputs": [
    {
     "name": "stderr",
     "output_type": "stream",
     "text": [
      "c:\\python 39\\lib\\site-packages\\xgboost\\sklearn.py:1224: UserWarning: The use of label encoder in XGBClassifier is deprecated and will be removed in a future release. To remove this warning, do the following: 1) Pass option use_label_encoder=False when constructing XGBClassifier object; and 2) Encode your labels (y) as integers starting with 0, i.e. 0, 1, 2, ..., [num_class - 1].\n",
      "  warnings.warn(label_encoder_deprecation_msg, UserWarning)\n",
      "c:\\python 39\\lib\\site-packages\\sklearn\\preprocessing\\_label.py:98: DataConversionWarning: A column-vector y was passed when a 1d array was expected. Please change the shape of y to (n_samples, ), for example using ravel().\n",
      "  y = column_or_1d(y, warn=True)\n",
      "c:\\python 39\\lib\\site-packages\\sklearn\\preprocessing\\_label.py:133: DataConversionWarning: A column-vector y was passed when a 1d array was expected. Please change the shape of y to (n_samples, ), for example using ravel().\n",
      "  y = column_or_1d(y, warn=True)\n"
     ]
    },
    {
     "name": "stdout",
     "output_type": "stream",
     "text": [
      "[10:48:32] WARNING: C:/Users/Administrator/workspace/xgboost-win64_release_1.5.0/src/learner.cc:1115: Starting in XGBoost 1.3.0, the default evaluation metric used with the objective 'multi:softprob' was changed from 'merror' to 'mlogloss'. Explicitly set eval_metric if you'd like to restore the old behavior.\n",
      "Accuracy of XGBoost:  0.4257630950885567\n",
      "F1 score: 0.3915276394063394\n",
      "Recall: 0.4257630950885567\n",
      "Precision: 0.40911207888567386\n"
     ]
    }
   ],
   "source": [
    "from xgboost import XGBClassifier\n",
    "XGB_model = XGBClassifier()\n",
    "XGB_model.fit(X_train, y_train)\n",
    "y_predict = XGB_model.predict(X_test)\n",
    "print('Accuracy of XGBoost: ', accuracy_score(y_test, y_predict))\n",
    "print('F1 score:', f1_score(y_test, y_predict, average='weighted'))\n",
    "print('Recall:', recall_score(y_test, y_predict, average='weighted'))\n",
    "print('Precision:', precision_score(y_test, y_predict, average='weighted'))"
   ]
  },
  {
   "cell_type": "code",
   "execution_count": 97,
   "id": "63cb9877",
   "metadata": {},
   "outputs": [
    {
     "data": {
      "text/plain": [
       "array([[ 510, 2457, 1734,   33,    0,   55,    0,    0,    0,    0,    0],\n",
       "       [ 325, 9488, 4540,  536,    0,  770,    0,    0,    0,    0,    3],\n",
       "       [ 232, 7741, 8848,  220,    0,  527,    0,    0,    0,    0,   13],\n",
       "       [ 141, 3446, 3149, 2141,    0, 2123,    0,    0,    0,    0,   40],\n",
       "       [  53,  906, 1016,   91,    0,  218,    0,    0,    0,    0,   22],\n",
       "       [  51,  892,  825, 1590,    0, 3413,    0,    0,    0,    0,   85],\n",
       "       [   9,  155,  215,   28,    0,  117,    0,    0,    0,    0,   12],\n",
       "       [  20,  239,  174,  441,    0,  963,    0,    0,    0,    0,  213],\n",
       "       [   7,   50,   32,  106,    0,  677,    0,    0,    0,    0,   80],\n",
       "       [   8,   60,   54,  110,    0,  261,    0,    0,    0,    0,   88],\n",
       "       [  12,  103,   52,  118,    0,  537,    0,    0,    0,    0,  513]],\n",
       "      dtype=int64)"
      ]
     },
     "execution_count": 97,
     "metadata": {},
     "output_type": "execute_result"
    }
   ],
   "source": [
    "confusion_matrix(y_test,y_predict)"
   ]
  },
  {
   "cell_type": "code",
   "execution_count": 98,
   "id": "cd252ef0",
   "metadata": {},
   "outputs": [
    {
     "name": "stdout",
     "output_type": "stream",
     "text": [
      "              precision    recall  f1-score   support\n",
      "\n",
      "           0       0.37      0.11      0.17      4789\n",
      "           1       0.37      0.61      0.46     15662\n",
      "           2       0.43      0.50      0.46     17581\n",
      "           3       0.40      0.19      0.26     11040\n",
      "           4       0.00      0.00      0.00      2306\n",
      "           5       0.35      0.50      0.41      6856\n",
      "           6       0.00      0.00      0.00       536\n",
      "           7       0.00      0.00      0.00      2050\n",
      "           8       0.00      0.00      0.00       952\n",
      "           9       0.00      0.00      0.00       581\n",
      "          10       0.48      0.38      0.43      1335\n",
      "\n",
      "    accuracy                           0.39     63688\n",
      "   macro avg       0.22      0.21      0.20     63688\n",
      "weighted avg       0.35      0.39      0.35     63688\n",
      "\n"
     ]
    },
    {
     "name": "stderr",
     "output_type": "stream",
     "text": [
      "c:\\python 39\\lib\\site-packages\\sklearn\\metrics\\_classification.py:1308: UndefinedMetricWarning: Precision and F-score are ill-defined and being set to 0.0 in labels with no predicted samples. Use `zero_division` parameter to control this behavior.\n",
      "  _warn_prf(average, modifier, msg_start, len(result))\n",
      "c:\\python 39\\lib\\site-packages\\sklearn\\metrics\\_classification.py:1308: UndefinedMetricWarning: Precision and F-score are ill-defined and being set to 0.0 in labels with no predicted samples. Use `zero_division` parameter to control this behavior.\n",
      "  _warn_prf(average, modifier, msg_start, len(result))\n",
      "c:\\python 39\\lib\\site-packages\\sklearn\\metrics\\_classification.py:1308: UndefinedMetricWarning: Precision and F-score are ill-defined and being set to 0.0 in labels with no predicted samples. Use `zero_division` parameter to control this behavior.\n",
      "  _warn_prf(average, modifier, msg_start, len(result))\n"
     ]
    }
   ],
   "source": [
    "print(classification_report(y_test,y_predict))"
   ]
  },
  {
   "cell_type": "markdown",
   "id": "455c3f85",
   "metadata": {},
   "source": [
    "Among these algorithms, XGBoost gives a better performance. We have further increase it's performance by hyperparameter tuning."
   ]
  },
  {
   "cell_type": "markdown",
   "id": "c732012b",
   "metadata": {},
   "source": [
    "### Hyperparameter tuning"
   ]
  },
  {
   "cell_type": "code",
   "execution_count": 99,
   "id": "4f72caed",
   "metadata": {},
   "outputs": [],
   "source": [
    "from sklearn.model_selection import RandomizedSearchCV\n",
    "import warnings\n",
    "warnings.filterwarnings(\"ignore\")"
   ]
  },
  {
   "cell_type": "code",
   "execution_count": 100,
   "id": "ad1f3b96",
   "metadata": {},
   "outputs": [],
   "source": [
    "XGB_hypertuned_model = XGBClassifier()"
   ]
  },
  {
   "cell_type": "code",
   "execution_count": 101,
   "id": "4d0ad50d",
   "metadata": {},
   "outputs": [],
   "source": [
    "param_grid = {\n",
    "        'silent': [False],\n",
    "        'max_depth': [6, 10, 15, 20],\n",
    "        'learning_rate': [0.001, 0.01, 0.1, 0.2, 0,3],\n",
    "        'subsample': [0.5, 0.6, 0.7, 0.8, 0.9, 1.0],\n",
    "        'colsample_bytree': [0.4, 0.5, 0.6, 0.7, 0.8, 0.9, 1.0],\n",
    "        'colsample_bylevel': [0.4, 0.5, 0.6, 0.7, 0.8, 0.9, 1.0],\n",
    "        'min_child_weight': [0.5, 1.0, 3.0, 5.0, 7.0, 10.0],\n",
    "        'gamma': [0, 0.25, 0.5, 1.0],\n",
    "        'reg_lambda': [0.1, 1.0, 5.0, 10.0, 50.0, 100.0],\n",
    "        'n_estimators': [100]}"
   ]
  },
  {
   "cell_type": "code",
   "execution_count": 102,
   "id": "70560dfa",
   "metadata": {},
   "outputs": [],
   "source": [
    "XGB_RSCV = RandomizedSearchCV(XGB_hypertuned_model, param_distributions=param_grid, n_iter=10,\n",
    "                            n_jobs=1, cv=2, scoring='neg_log_loss', random_state=42)"
   ]
  },
  {
   "cell_type": "code",
   "execution_count": 103,
   "id": "1bdc6849",
   "metadata": {},
   "outputs": [
    {
     "name": "stdout",
     "output_type": "stream",
     "text": [
      "[10:52:58] WARNING: C:/Users/Administrator/workspace/xgboost-win64_release_1.5.0/src/learner.cc:576: \n",
      "Parameters: { \"silent\" } might not be used.\n",
      "\n",
      "  This could be a false alarm, with some parameters getting used by language bindings but\n",
      "  then being mistakenly passed down to XGBoost core, or some parameter actually being used\n",
      "  but getting flagged wrongly here. Please open an issue if you find any such cases.\n",
      "\n",
      "\n",
      "[10:52:59] WARNING: C:/Users/Administrator/workspace/xgboost-win64_release_1.5.0/src/learner.cc:1115: Starting in XGBoost 1.3.0, the default evaluation metric used with the objective 'multi:softprob' was changed from 'merror' to 'mlogloss'. Explicitly set eval_metric if you'd like to restore the old behavior.\n",
      "[10:55:08] WARNING: C:/Users/Administrator/workspace/xgboost-win64_release_1.5.0/src/learner.cc:576: \n",
      "Parameters: { \"silent\" } might not be used.\n",
      "\n",
      "  This could be a false alarm, with some parameters getting used by language bindings but\n",
      "  then being mistakenly passed down to XGBoost core, or some parameter actually being used\n",
      "  but getting flagged wrongly here. Please open an issue if you find any such cases.\n",
      "\n",
      "\n",
      "[10:55:09] WARNING: C:/Users/Administrator/workspace/xgboost-win64_release_1.5.0/src/learner.cc:1115: Starting in XGBoost 1.3.0, the default evaluation metric used with the objective 'multi:softprob' was changed from 'merror' to 'mlogloss'. Explicitly set eval_metric if you'd like to restore the old behavior.\n",
      "[10:57:18] WARNING: C:/Users/Administrator/workspace/xgboost-win64_release_1.5.0/src/learner.cc:576: \n",
      "Parameters: { \"silent\" } might not be used.\n",
      "\n",
      "  This could be a false alarm, with some parameters getting used by language bindings but\n",
      "  then being mistakenly passed down to XGBoost core, or some parameter actually being used\n",
      "  but getting flagged wrongly here. Please open an issue if you find any such cases.\n",
      "\n",
      "\n",
      "[10:57:23] WARNING: C:/Users/Administrator/workspace/xgboost-win64_release_1.5.0/src/learner.cc:1115: Starting in XGBoost 1.3.0, the default evaluation metric used with the objective 'multi:softprob' was changed from 'merror' to 'mlogloss'. Explicitly set eval_metric if you'd like to restore the old behavior.\n",
      "[11:06:14] WARNING: C:/Users/Administrator/workspace/xgboost-win64_release_1.5.0/src/learner.cc:576: \n",
      "Parameters: { \"silent\" } might not be used.\n",
      "\n",
      "  This could be a false alarm, with some parameters getting used by language bindings but\n",
      "  then being mistakenly passed down to XGBoost core, or some parameter actually being used\n",
      "  but getting flagged wrongly here. Please open an issue if you find any such cases.\n",
      "\n",
      "\n",
      "[11:06:18] WARNING: C:/Users/Administrator/workspace/xgboost-win64_release_1.5.0/src/learner.cc:1115: Starting in XGBoost 1.3.0, the default evaluation metric used with the objective 'multi:softprob' was changed from 'merror' to 'mlogloss'. Explicitly set eval_metric if you'd like to restore the old behavior.\n",
      "[11:15:08] WARNING: C:/Users/Administrator/workspace/xgboost-win64_release_1.5.0/src/learner.cc:576: \n",
      "Parameters: { \"silent\" } might not be used.\n",
      "\n",
      "  This could be a false alarm, with some parameters getting used by language bindings but\n",
      "  then being mistakenly passed down to XGBoost core, or some parameter actually being used\n",
      "  but getting flagged wrongly here. Please open an issue if you find any such cases.\n",
      "\n",
      "\n",
      "[11:15:10] WARNING: C:/Users/Administrator/workspace/xgboost-win64_release_1.5.0/src/learner.cc:1115: Starting in XGBoost 1.3.0, the default evaluation metric used with the objective 'multi:softprob' was changed from 'merror' to 'mlogloss'. Explicitly set eval_metric if you'd like to restore the old behavior.\n",
      "[11:19:21] WARNING: C:/Users/Administrator/workspace/xgboost-win64_release_1.5.0/src/learner.cc:576: \n",
      "Parameters: { \"silent\" } might not be used.\n",
      "\n",
      "  This could be a false alarm, with some parameters getting used by language bindings but\n",
      "  then being mistakenly passed down to XGBoost core, or some parameter actually being used\n",
      "  but getting flagged wrongly here. Please open an issue if you find any such cases.\n",
      "\n",
      "\n",
      "[11:19:23] WARNING: C:/Users/Administrator/workspace/xgboost-win64_release_1.5.0/src/learner.cc:1115: Starting in XGBoost 1.3.0, the default evaluation metric used with the objective 'multi:softprob' was changed from 'merror' to 'mlogloss'. Explicitly set eval_metric if you'd like to restore the old behavior.\n",
      "[11:23:34] WARNING: C:/Users/Administrator/workspace/xgboost-win64_release_1.5.0/src/learner.cc:576: \n",
      "Parameters: { \"silent\" } might not be used.\n",
      "\n",
      "  This could be a false alarm, with some parameters getting used by language bindings but\n",
      "  then being mistakenly passed down to XGBoost core, or some parameter actually being used\n",
      "  but getting flagged wrongly here. Please open an issue if you find any such cases.\n",
      "\n",
      "\n",
      "[11:23:36] WARNING: C:/Users/Administrator/workspace/xgboost-win64_release_1.5.0/src/learner.cc:1115: Starting in XGBoost 1.3.0, the default evaluation metric used with the objective 'multi:softprob' was changed from 'merror' to 'mlogloss'. Explicitly set eval_metric if you'd like to restore the old behavior.\n",
      "[11:26:49] WARNING: C:/Users/Administrator/workspace/xgboost-win64_release_1.5.0/src/learner.cc:576: \n",
      "Parameters: { \"silent\" } might not be used.\n",
      "\n",
      "  This could be a false alarm, with some parameters getting used by language bindings but\n",
      "  then being mistakenly passed down to XGBoost core, or some parameter actually being used\n",
      "  but getting flagged wrongly here. Please open an issue if you find any such cases.\n",
      "\n",
      "\n",
      "[11:26:51] WARNING: C:/Users/Administrator/workspace/xgboost-win64_release_1.5.0/src/learner.cc:1115: Starting in XGBoost 1.3.0, the default evaluation metric used with the objective 'multi:softprob' was changed from 'merror' to 'mlogloss'. Explicitly set eval_metric if you'd like to restore the old behavior.\n",
      "[11:30:03] WARNING: C:/Users/Administrator/workspace/xgboost-win64_release_1.5.0/src/learner.cc:576: \n",
      "Parameters: { \"silent\" } might not be used.\n",
      "\n",
      "  This could be a false alarm, with some parameters getting used by language bindings but\n",
      "  then being mistakenly passed down to XGBoost core, or some parameter actually being used\n",
      "  but getting flagged wrongly here. Please open an issue if you find any such cases.\n",
      "\n",
      "\n",
      "[11:30:05] WARNING: C:/Users/Administrator/workspace/xgboost-win64_release_1.5.0/src/learner.cc:1115: Starting in XGBoost 1.3.0, the default evaluation metric used with the objective 'multi:softprob' was changed from 'merror' to 'mlogloss'. Explicitly set eval_metric if you'd like to restore the old behavior.\n",
      "[11:31:22] WARNING: C:/Users/Administrator/workspace/xgboost-win64_release_1.5.0/src/learner.cc:576: \n",
      "Parameters: { \"silent\" } might not be used.\n",
      "\n",
      "  This could be a false alarm, with some parameters getting used by language bindings but\n",
      "  then being mistakenly passed down to XGBoost core, or some parameter actually being used\n",
      "  but getting flagged wrongly here. Please open an issue if you find any such cases.\n",
      "\n",
      "\n",
      "[11:31:25] WARNING: C:/Users/Administrator/workspace/xgboost-win64_release_1.5.0/src/learner.cc:1115: Starting in XGBoost 1.3.0, the default evaluation metric used with the objective 'multi:softprob' was changed from 'merror' to 'mlogloss'. Explicitly set eval_metric if you'd like to restore the old behavior.\n",
      "[11:32:41] WARNING: C:/Users/Administrator/workspace/xgboost-win64_release_1.5.0/src/learner.cc:576: \n",
      "Parameters: { \"silent\" } might not be used.\n",
      "\n",
      "  This could be a false alarm, with some parameters getting used by language bindings but\n",
      "  then being mistakenly passed down to XGBoost core, or some parameter actually being used\n",
      "  but getting flagged wrongly here. Please open an issue if you find any such cases.\n",
      "\n",
      "\n",
      "[11:32:44] WARNING: C:/Users/Administrator/workspace/xgboost-win64_release_1.5.0/src/learner.cc:1115: Starting in XGBoost 1.3.0, the default evaluation metric used with the objective 'multi:softprob' was changed from 'merror' to 'mlogloss'. Explicitly set eval_metric if you'd like to restore the old behavior.\n",
      "[11:38:01] WARNING: C:/Users/Administrator/workspace/xgboost-win64_release_1.5.0/src/learner.cc:576: \n",
      "Parameters: { \"silent\" } might not be used.\n",
      "\n",
      "  This could be a false alarm, with some parameters getting used by language bindings but\n",
      "  then being mistakenly passed down to XGBoost core, or some parameter actually being used\n",
      "  but getting flagged wrongly here. Please open an issue if you find any such cases.\n",
      "\n",
      "\n",
      "[11:38:04] WARNING: C:/Users/Administrator/workspace/xgboost-win64_release_1.5.0/src/learner.cc:1115: Starting in XGBoost 1.3.0, the default evaluation metric used with the objective 'multi:softprob' was changed from 'merror' to 'mlogloss'. Explicitly set eval_metric if you'd like to restore the old behavior.\n",
      "[11:43:22] WARNING: C:/Users/Administrator/workspace/xgboost-win64_release_1.5.0/src/learner.cc:576: \n",
      "Parameters: { \"silent\" } might not be used.\n",
      "\n",
      "  This could be a false alarm, with some parameters getting used by language bindings but\n",
      "  then being mistakenly passed down to XGBoost core, or some parameter actually being used\n",
      "  but getting flagged wrongly here. Please open an issue if you find any such cases.\n",
      "\n",
      "\n",
      "[11:43:25] WARNING: C:/Users/Administrator/workspace/xgboost-win64_release_1.5.0/src/learner.cc:1115: Starting in XGBoost 1.3.0, the default evaluation metric used with the objective 'multi:softprob' was changed from 'merror' to 'mlogloss'. Explicitly set eval_metric if you'd like to restore the old behavior.\n",
      "[11:45:49] WARNING: C:/Users/Administrator/workspace/xgboost-win64_release_1.5.0/src/learner.cc:576: \n",
      "Parameters: { \"silent\" } might not be used.\n",
      "\n",
      "  This could be a false alarm, with some parameters getting used by language bindings but\n",
      "  then being mistakenly passed down to XGBoost core, or some parameter actually being used\n",
      "  but getting flagged wrongly here. Please open an issue if you find any such cases.\n",
      "\n",
      "\n",
      "[11:45:50] WARNING: C:/Users/Administrator/workspace/xgboost-win64_release_1.5.0/src/learner.cc:1115: Starting in XGBoost 1.3.0, the default evaluation metric used with the objective 'multi:softprob' was changed from 'merror' to 'mlogloss'. Explicitly set eval_metric if you'd like to restore the old behavior.\n",
      "[11:47:57] WARNING: C:/Users/Administrator/workspace/xgboost-win64_release_1.5.0/src/learner.cc:576: \n",
      "Parameters: { \"silent\" } might not be used.\n",
      "\n",
      "  This could be a false alarm, with some parameters getting used by language bindings but\n",
      "  then being mistakenly passed down to XGBoost core, or some parameter actually being used\n",
      "  but getting flagged wrongly here. Please open an issue if you find any such cases.\n",
      "\n",
      "\n",
      "[11:47:57] WARNING: C:/Users/Administrator/workspace/xgboost-win64_release_1.5.0/src/learner.cc:1115: Starting in XGBoost 1.3.0, the default evaluation metric used with the objective 'multi:softprob' was changed from 'merror' to 'mlogloss'. Explicitly set eval_metric if you'd like to restore the old behavior.\n",
      "[11:49:13] WARNING: C:/Users/Administrator/workspace/xgboost-win64_release_1.5.0/src/learner.cc:576: \n",
      "Parameters: { \"silent\" } might not be used.\n",
      "\n",
      "  This could be a false alarm, with some parameters getting used by language bindings but\n",
      "  then being mistakenly passed down to XGBoost core, or some parameter actually being used\n",
      "  but getting flagged wrongly here. Please open an issue if you find any such cases.\n",
      "\n",
      "\n",
      "[11:49:14] WARNING: C:/Users/Administrator/workspace/xgboost-win64_release_1.5.0/src/learner.cc:1115: Starting in XGBoost 1.3.0, the default evaluation metric used with the objective 'multi:softprob' was changed from 'merror' to 'mlogloss'. Explicitly set eval_metric if you'd like to restore the old behavior.\n",
      "[11:50:31] WARNING: C:/Users/Administrator/workspace/xgboost-win64_release_1.5.0/src/learner.cc:576: \n",
      "Parameters: { \"silent\" } might not be used.\n",
      "\n",
      "  This could be a false alarm, with some parameters getting used by language bindings but\n",
      "  then being mistakenly passed down to XGBoost core, or some parameter actually being used\n",
      "  but getting flagged wrongly here. Please open an issue if you find any such cases.\n",
      "\n",
      "\n",
      "[11:50:31] WARNING: C:/Users/Administrator/workspace/xgboost-win64_release_1.5.0/src/learner.cc:1115: Starting in XGBoost 1.3.0, the default evaluation metric used with the objective 'multi:softprob' was changed from 'merror' to 'mlogloss'. Explicitly set eval_metric if you'd like to restore the old behavior.\n",
      "[11:52:27] WARNING: C:/Users/Administrator/workspace/xgboost-win64_release_1.5.0/src/learner.cc:576: \n",
      "Parameters: { \"silent\" } might not be used.\n",
      "\n",
      "  This could be a false alarm, with some parameters getting used by language bindings but\n",
      "  then being mistakenly passed down to XGBoost core, or some parameter actually being used\n",
      "  but getting flagged wrongly here. Please open an issue if you find any such cases.\n",
      "\n",
      "\n",
      "[11:52:27] WARNING: C:/Users/Administrator/workspace/xgboost-win64_release_1.5.0/src/learner.cc:1115: Starting in XGBoost 1.3.0, the default evaluation metric used with the objective 'multi:softprob' was changed from 'merror' to 'mlogloss'. Explicitly set eval_metric if you'd like to restore the old behavior.\n",
      "[11:54:23] WARNING: C:/Users/Administrator/workspace/xgboost-win64_release_1.5.0/src/learner.cc:576: \n",
      "Parameters: { \"silent\" } might not be used.\n",
      "\n",
      "  This could be a false alarm, with some parameters getting used by language bindings but\n",
      "  then being mistakenly passed down to XGBoost core, or some parameter actually being used\n",
      "  but getting flagged wrongly here. Please open an issue if you find any such cases.\n",
      "\n",
      "\n",
      "[11:54:24] WARNING: C:/Users/Administrator/workspace/xgboost-win64_release_1.5.0/src/learner.cc:1115: Starting in XGBoost 1.3.0, the default evaluation metric used with the objective 'multi:softprob' was changed from 'merror' to 'mlogloss'. Explicitly set eval_metric if you'd like to restore the old behavior.\n",
      "[11:56:28] WARNING: C:/Users/Administrator/workspace/xgboost-win64_release_1.5.0/src/learner.cc:576: \n",
      "Parameters: { \"silent\" } might not be used.\n",
      "\n",
      "  This could be a false alarm, with some parameters getting used by language bindings but\n",
      "  then being mistakenly passed down to XGBoost core, or some parameter actually being used\n",
      "  but getting flagged wrongly here. Please open an issue if you find any such cases.\n",
      "\n",
      "\n",
      "[11:56:29] WARNING: C:/Users/Administrator/workspace/xgboost-win64_release_1.5.0/src/learner.cc:1115: Starting in XGBoost 1.3.0, the default evaluation metric used with the objective 'multi:softprob' was changed from 'merror' to 'mlogloss'. Explicitly set eval_metric if you'd like to restore the old behavior.\n",
      "[11:58:30] WARNING: C:/Users/Administrator/workspace/xgboost-win64_release_1.5.0/src/learner.cc:576: \n",
      "Parameters: { \"silent\" } might not be used.\n",
      "\n",
      "  This could be a false alarm, with some parameters getting used by language bindings but\n",
      "  then being mistakenly passed down to XGBoost core, or some parameter actually being used\n",
      "  but getting flagged wrongly here. Please open an issue if you find any such cases.\n",
      "\n",
      "\n",
      "[11:58:32] WARNING: C:/Users/Administrator/workspace/xgboost-win64_release_1.5.0/src/learner.cc:1115: Starting in XGBoost 1.3.0, the default evaluation metric used with the objective 'multi:softprob' was changed from 'merror' to 'mlogloss'. Explicitly set eval_metric if you'd like to restore the old behavior.\n"
     ]
    },
    {
     "data": {
      "text/plain": [
       "RandomizedSearchCV(cv=2,\n",
       "                   estimator=XGBClassifier(base_score=None, booster=None,\n",
       "                                           colsample_bylevel=None,\n",
       "                                           colsample_bynode=None,\n",
       "                                           colsample_bytree=None,\n",
       "                                           enable_categorical=False, gamma=None,\n",
       "                                           gpu_id=None, importance_type=None,\n",
       "                                           interaction_constraints=None,\n",
       "                                           learning_rate=None,\n",
       "                                           max_delta_step=None, max_depth=None,\n",
       "                                           min_child_weight=None, missing=nan,\n",
       "                                           monotone_constraints...\n",
       "                                                              1.0],\n",
       "                                        'colsample_bytree': [0.4, 0.5, 0.6, 0.7,\n",
       "                                                             0.8, 0.9, 1.0],\n",
       "                                        'gamma': [0, 0.25, 0.5, 1.0],\n",
       "                                        'learning_rate': [0.001, 0.01, 0.1, 0.2,\n",
       "                                                          0, 3],\n",
       "                                        'max_depth': [6, 10, 15, 20],\n",
       "                                        'min_child_weight': [0.5, 1.0, 3.0, 5.0,\n",
       "                                                             7.0, 10.0],\n",
       "                                        'n_estimators': [100],\n",
       "                                        'reg_lambda': [0.1, 1.0, 5.0, 10.0,\n",
       "                                                       50.0, 100.0],\n",
       "                                        'silent': [False],\n",
       "                                        'subsample': [0.5, 0.6, 0.7, 0.8, 0.9,\n",
       "                                                      1.0]},\n",
       "                   random_state=42, scoring='neg_log_loss')"
      ]
     },
     "execution_count": 103,
     "metadata": {},
     "output_type": "execute_result"
    }
   ],
   "source": [
    "XGB_RSCV.fit(X,y)"
   ]
  },
  {
   "cell_type": "code",
   "execution_count": 104,
   "id": "da366416",
   "metadata": {},
   "outputs": [
    {
     "data": {
      "text/plain": [
       "-1.5108580773711382"
      ]
     },
     "execution_count": 104,
     "metadata": {},
     "output_type": "execute_result"
    }
   ],
   "source": [
    "best_score = XGB_RSCV.best_score_\n",
    "best_score"
   ]
  },
  {
   "cell_type": "code",
   "execution_count": 105,
   "id": "ebaa7f46",
   "metadata": {},
   "outputs": [
    {
     "data": {
      "text/plain": [
       "{'subsample': 0.9,\n",
       " 'silent': False,\n",
       " 'reg_lambda': 50.0,\n",
       " 'n_estimators': 100,\n",
       " 'min_child_weight': 7.0,\n",
       " 'max_depth': 15,\n",
       " 'learning_rate': 0.1,\n",
       " 'gamma': 0.25,\n",
       " 'colsample_bytree': 1.0,\n",
       " 'colsample_bylevel': 0.4}"
      ]
     },
     "execution_count": 105,
     "metadata": {},
     "output_type": "execute_result"
    }
   ],
   "source": [
    "best_params = XGB_RSCV.best_params_\n",
    "best_params"
   ]
  },
  {
   "cell_type": "code",
   "execution_count": 106,
   "id": "b9b095b4",
   "metadata": {},
   "outputs": [],
   "source": [
    "# defining the best parameters generated from RandomizedSearchCV\n",
    "\n",
    "XGB_new_model = XGBClassifier(subsample= 0.9,\n",
    " silent= False,\n",
    " reg_lambda= 50.0,\n",
    " n_estimators= 100,\n",
    " min_child_weight= 7.0,\n",
    " max_depth= 15,\n",
    " learning_rate= 0.1,\n",
    " gamma= 0.25,\n",
    " colsample_bytree= 1.0,\n",
    " colsample_bylevel= 0.4)"
   ]
  },
  {
   "cell_type": "code",
   "execution_count": 107,
   "id": "5f99e577",
   "metadata": {},
   "outputs": [
    {
     "name": "stdout",
     "output_type": "stream",
     "text": [
      "[12:06:23] WARNING: C:/Users/Administrator/workspace/xgboost-win64_release_1.5.0/src/learner.cc:576: \n",
      "Parameters: { \"silent\" } might not be used.\n",
      "\n",
      "  This could be a false alarm, with some parameters getting used by language bindings but\n",
      "  then being mistakenly passed down to XGBoost core, or some parameter actually being used\n",
      "  but getting flagged wrongly here. Please open an issue if you find any such cases.\n",
      "\n",
      "\n",
      "[12:06:24] WARNING: C:/Users/Administrator/workspace/xgboost-win64_release_1.5.0/src/learner.cc:1115: Starting in XGBoost 1.3.0, the default evaluation metric used with the objective 'multi:softprob' was changed from 'merror' to 'mlogloss'. Explicitly set eval_metric if you'd like to restore the old behavior.\n",
      "Accuracy: 0.42533915337269185\n",
      "F1 score: 0.39066209890763814\n",
      "Recall: 0.42533915337269185\n",
      "Precision: 0.4098423206702683\n"
     ]
    }
   ],
   "source": [
    "XGB_new_model.fit(X_train, y_train)\n",
    "y_predict = XGB_new_model.predict(X_test)\n",
    "print('Accuracy:', accuracy_score(y_test, y_predict))\n",
    "print('F1 score:', f1_score(y_test, y_predict, average='weighted'))\n",
    "print('Recall:', recall_score(y_test, y_predict, average='weighted'))\n",
    "print('Precision:', precision_score(y_test, y_predict, average='weighted'))"
   ]
  },
  {
   "cell_type": "code",
   "execution_count": 108,
   "id": "f31c6cee",
   "metadata": {},
   "outputs": [
    {
     "data": {
      "text/plain": [
       "array([[  786,  2320,  1637,    34,     1,    11,     0,     0,     0,\n",
       "            0,     0],\n",
       "       [  458,  7843,  6122,   724,     2,   503,     0,     2,     3,\n",
       "            0,     5],\n",
       "       [  334,  4971, 11643,   307,     4,   279,     0,     3,    28,\n",
       "            0,    12],\n",
       "       [  194,  1839,  4518,  2610,     3,  1816,     0,    11,    15,\n",
       "            0,    34],\n",
       "       [   78,   416,  1458,   146,     2,   182,     0,     3,     4,\n",
       "            0,    17],\n",
       "       [   82,   464,  1001,  1671,     3,  3404,     0,    16,   126,\n",
       "            0,    89],\n",
       "       [   12,    64,   289,    51,     1,    97,     0,     3,     5,\n",
       "            0,    14],\n",
       "       [   29,   129,   206,   371,     0,  1073,     0,    46,    24,\n",
       "            1,   171],\n",
       "       [   10,    40,    40,    89,     1,   480,     0,     3,   185,\n",
       "            0,   104],\n",
       "       [   12,    24,    58,    79,     0,   299,     0,    10,    10,\n",
       "            2,    87],\n",
       "       [   19,    59,    70,    96,     0,   393,     0,    19,   111,\n",
       "            0,   568]], dtype=int64)"
      ]
     },
     "execution_count": 108,
     "metadata": {},
     "output_type": "execute_result"
    }
   ],
   "source": [
    "confusion_matrix(y_test,y_predict)"
   ]
  },
  {
   "cell_type": "code",
   "execution_count": 109,
   "id": "611c1a05",
   "metadata": {},
   "outputs": [
    {
     "name": "stdout",
     "output_type": "stream",
     "text": [
      "              precision    recall  f1-score   support\n",
      "\n",
      "           0       0.39      0.16      0.23      4789\n",
      "           1       0.43      0.50      0.46     15662\n",
      "           2       0.43      0.66      0.52     17581\n",
      "           3       0.42      0.24      0.30     11040\n",
      "           4       0.12      0.00      0.00      2306\n",
      "           5       0.40      0.50      0.44      6856\n",
      "           6       0.00      0.00      0.00       536\n",
      "           7       0.40      0.02      0.04      2050\n",
      "           8       0.36      0.19      0.25       952\n",
      "           9       0.67      0.00      0.01       581\n",
      "          10       0.52      0.43      0.47      1335\n",
      "\n",
      "    accuracy                           0.43     63688\n",
      "   macro avg       0.38      0.25      0.25     63688\n",
      "weighted avg       0.41      0.43      0.39     63688\n",
      "\n"
     ]
    }
   ],
   "source": [
    "print(classification_report(y_test,y_predict))"
   ]
  },
  {
   "cell_type": "markdown",
   "id": "a992d50d",
   "metadata": {},
   "source": [
    "Apart from accuracy, recall, precision & f1 score, **roc_auc score** is also a good metric to evaluate the performance of an imbalanced data."
   ]
  },
  {
   "cell_type": "code",
   "execution_count": 110,
   "id": "4030646a",
   "metadata": {},
   "outputs": [],
   "source": [
    "y_predict_proba = XGB_new_model.predict_proba(X_test)"
   ]
  },
  {
   "cell_type": "code",
   "execution_count": 111,
   "id": "eaf09363",
   "metadata": {},
   "outputs": [
    {
     "data": {
      "text/plain": [
       "array([[0.04977833, 0.11497257, 0.4265332 , ..., 0.00281347, 0.00263245,\n",
       "        0.00593028],\n",
       "       [0.01195866, 0.20303665, 0.03413891, ..., 0.00598781, 0.00665111,\n",
       "        0.0075273 ],\n",
       "       [0.01767267, 0.31924126, 0.38616076, ..., 0.00263682, 0.0042153 ,\n",
       "        0.00302422],\n",
       "       ...,\n",
       "       [0.04025336, 0.19484358, 0.43750486, ..., 0.00224651, 0.00170567,\n",
       "        0.00183462],\n",
       "       [0.02166557, 0.4434708 , 0.38613465, ..., 0.00178573, 0.0035038 ,\n",
       "        0.00207111],\n",
       "       [0.06099707, 0.47241488, 0.3041475 , ..., 0.00256004, 0.00274403,\n",
       "        0.00327803]], dtype=float32)"
      ]
     },
     "execution_count": 111,
     "metadata": {},
     "output_type": "execute_result"
    }
   ],
   "source": [
    "y_predict_proba"
   ]
  },
  {
   "cell_type": "code",
   "execution_count": 112,
   "id": "18864999",
   "metadata": {},
   "outputs": [],
   "source": [
    "from sklearn.metrics import roc_curve, roc_auc_score"
   ]
  },
  {
   "cell_type": "code",
   "execution_count": 113,
   "id": "e4cb5d34",
   "metadata": {},
   "outputs": [
    {
     "data": {
      "text/plain": [
       "0.8079585603991969"
      ]
     },
     "execution_count": 113,
     "metadata": {},
     "output_type": "execute_result"
    }
   ],
   "source": [
    "# roc_auc score\n",
    "\n",
    "roc_auc = roc_auc_score(y_test, y_predict_proba, multi_class='ovr')\n",
    "roc_auc\n",
    " \n",
    "# this being a multiclass problem, the default value of multi_class='raise' needs to be changed to either 'ovo' or 'ovr'"
   ]
  },
  {
   "cell_type": "code",
   "execution_count": 114,
   "id": "4105a422",
   "metadata": {},
   "outputs": [
    {
     "data": {
      "image/png": "[encoded data removed]",
      "text/plain": [
       "<Figure size 864x576 with 1 Axes>"
      ]
     },
     "metadata": {},
     "output_type": "display_data"
    }
   ],
   "source": [
    "# roc curve for multiclass:\n",
    "\n",
    "plt.figure(figsize = (12,8))\n",
    "\n",
    "fpr = {}\n",
    "tpr = {}\n",
    "thresh ={}\n",
    "\n",
    "n_class = 11\n",
    "\n",
    "for i in range(n_class):    \n",
    "    fpr[i], tpr[i], thresh[i] = roc_curve(y_test, y_predict_proba[:,i], pos_label=i)\n",
    "    \n",
    "# plotting    \n",
    "plt.plot(fpr[0], tpr[0], linestyle='--',color='orange', label='Class 1 vs Rest (area = %0.2f)' % roc_auc)\n",
    "plt.plot(fpr[1], tpr[1], linestyle='--',color='green', label='Class 2 vs Rest (area = %0.2f)' % roc_auc)\n",
    "plt.plot(fpr[2], tpr[2], linestyle='--',color='blue', label='Class 3 vs Rest (area = %0.2f)' % roc_auc)\n",
    "plt.plot(fpr[3], tpr[3], linestyle='-', color='yellow', label='Class 4 vs Rest (area = %0.2f)' % roc_auc)\n",
    "plt.plot(fpr[4], tpr[4], linestyle='-',color='red', label='Class 5 vs Rest (area = %0.2f)' % roc_auc)\n",
    "plt.plot(fpr[5], tpr[5], linestyle='-',color='black', label='Class 6 vs Rest (area = %0.2f)' % roc_auc)\n",
    "plt.plot(fpr[6], tpr[6], linestyle='--', color='brown', label='Class 7 vs Rest (area = %0.2f)' % roc_auc)\n",
    "plt.plot(fpr[7], tpr[7], linestyle='-.',color='purple', label='Class 8 vs Rest (area = %0.2f)' % roc_auc)\n",
    "plt.plot(fpr[8], tpr[8], linestyle='-', color='cyan', label='Class 9 vs Rest (area = %0.2f)' % roc_auc)\n",
    "plt.plot(fpr[9], tpr[9], linestyle='-.', color='deeppink', label='Class 10 vs Rest (area = %0.2f)' % roc_auc)\n",
    "plt.plot(fpr[10], tpr[10], linestyle='-.', color='navy', label='Class 11 vs Rest (area = %0.2f)' % roc_auc)\n",
    "plt.xlabel('False Positive Rate')\n",
    "plt.ylabel('True Positive rate')\n",
    "plt.legend(loc='best')\n",
    "plt.show()"
   ]
  },
  {
   "cell_type": "markdown",
   "id": "6421744a",
   "metadata": {},
   "source": [
    "The AUC score is 0.81. The higher the AUC (i.e. nearer to 1), the better. Since, here it is 0.81, this model is acceptable."
   ]
  },
  {
   "cell_type": "markdown",
   "id": "1d15951a",
   "metadata": {},
   "source": [
    "Hence, **XGBoost with hyperparameter tuning** yields better results for this use case."
   ]
  }
 ],
 "metadata": {
  "kernelspec": {
   "display_name": "Python 3 (ipykernel)",
   "language": "python",
   "name": "python3"
  },
  "language_info": {
   "codemirror_mode": {
    "name": "ipython",
    "version": 3
   },
   "file_extension": ".py",
   "mimetype": "text/x-python",
   "name": "python",
   "nbconvert_exporter": "python",
   "pygments_lexer": "ipython3",
   "version": "3.9.2"
  }
 },
 "nbformat": 4,
 "nbformat_minor": 5
}
